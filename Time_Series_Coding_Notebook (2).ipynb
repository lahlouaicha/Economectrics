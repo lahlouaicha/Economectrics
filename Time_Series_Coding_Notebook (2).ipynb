{
  "nbformat": 4,
  "nbformat_minor": 0,
  "metadata": {
    "colab": {
      "name": "Time Series Coding Notebook.ipynb",
      "provenance": [],
      "collapsed_sections": []
    },
    "kernelspec": {
      "name": "python3",
      "display_name": "Python 3"
    },
    "language_info": {
      "name": "python"
    }
  },
  "cells": [
    {
      "cell_type": "markdown",
      "metadata": {
        "id": "9CG33gOSlJAG"
      },
      "source": [
        "# Mise en place de l'environnement\n"
      ]
    },
    {
      "cell_type": "code",
      "metadata": {
        "colab": {
          "base_uri": "https://localhost:8080/"
        },
        "id": "Jha67lCicmBw",
        "outputId": "5e74a83b-d144-4760-e824-f88e4ddf6f98"
      },
      "source": [
        " pip install pmdarima"
      ],
      "execution_count": 1,
      "outputs": [
        {
          "output_type": "stream",
          "text": [
            "Requirement already satisfied: pmdarima in /usr/local/lib/python3.7/dist-packages (1.8.2)\n",
            "Requirement already satisfied: urllib3 in /usr/local/lib/python3.7/dist-packages (from pmdarima) (1.24.3)\n",
            "Requirement already satisfied: Cython!=0.29.18,>=0.29 in /usr/local/lib/python3.7/dist-packages (from pmdarima) (0.29.23)\n",
            "Requirement already satisfied: setuptools!=50.0.0,>=38.6.0 in /usr/local/lib/python3.7/dist-packages (from pmdarima) (56.1.0)\n",
            "Requirement already satisfied: pandas>=0.19 in /usr/local/lib/python3.7/dist-packages (from pmdarima) (1.1.5)\n",
            "Requirement already satisfied: numpy~=1.19.0 in /usr/local/lib/python3.7/dist-packages (from pmdarima) (1.19.5)\n",
            "Requirement already satisfied: statsmodels!=0.12.0,>=0.11 in /usr/local/lib/python3.7/dist-packages (from pmdarima) (0.12.2)\n",
            "Requirement already satisfied: scipy>=1.3.2 in /usr/local/lib/python3.7/dist-packages (from pmdarima) (1.4.1)\n",
            "Requirement already satisfied: scikit-learn>=0.22 in /usr/local/lib/python3.7/dist-packages (from pmdarima) (0.22.2.post1)\n",
            "Requirement already satisfied: joblib>=0.11 in /usr/local/lib/python3.7/dist-packages (from pmdarima) (1.0.1)\n",
            "Requirement already satisfied: python-dateutil>=2.7.3 in /usr/local/lib/python3.7/dist-packages (from pandas>=0.19->pmdarima) (2.8.1)\n",
            "Requirement already satisfied: pytz>=2017.2 in /usr/local/lib/python3.7/dist-packages (from pandas>=0.19->pmdarima) (2018.9)\n",
            "Requirement already satisfied: patsy>=0.5 in /usr/local/lib/python3.7/dist-packages (from statsmodels!=0.12.0,>=0.11->pmdarima) (0.5.1)\n",
            "Requirement already satisfied: six>=1.5 in /usr/local/lib/python3.7/dist-packages (from python-dateutil>=2.7.3->pandas>=0.19->pmdarima) (1.15.0)\n"
          ],
          "name": "stdout"
        }
      ]
    },
    {
      "cell_type": "code",
      "metadata": {
        "id": "KXB4OkkEk-Wc"
      },
      "source": [
        "# Import de librairies \n",
        "import pandas as pd \n",
        "import numpy as np \n",
        "import matplotlib.pyplot as plt\n",
        "import seaborn as sns\n",
        "\n",
        "import statsmodels.api as sm\n",
        "from scipy import stats\n",
        "from sklearn.metrics import r2_score\n",
        "\n",
        "from sklearn.linear_model import LinearRegression\n",
        "from sklearn.preprocessing import PolynomialFeatures\n",
        "\n",
        "from statsmodels.tsa.stattools import acf, pacf\n",
        "from statsmodels.graphics.tsaplots import plot_acf, plot_pacf\n",
        "import statsmodels.tsa.api as smt\n",
        "from statsmodels.stats.stattools import durbin_watson\n",
        "from statsmodels.tsa.stattools import adfuller\n",
        "from scipy.stats import f\n",
        "\n",
        "import pmdarima as pmd\n",
        "\n",
        "import warnings\n",
        "warnings.simplefilter(action='ignore', category=FutureWarning)\n",
        "warnings.filterwarnings(\"ignore\")"
      ],
      "execution_count": 2,
      "outputs": []
    },
    {
      "cell_type": "code",
      "metadata": {
        "colab": {
          "base_uri": "https://localhost:8080/"
        },
        "id": "o5e5bjEZlLmh",
        "outputId": "7bb6968e-e462-4b04-cf2e-c62ac236f59a"
      },
      "source": [
        "# Ajustements à l'environnement google colab\n",
        "from google.colab import drive\n",
        "drive.mount('/content/Drive')"
      ],
      "execution_count": 3,
      "outputs": [
        {
          "output_type": "stream",
          "text": [
            "Drive already mounted at /content/Drive; to attempt to forcibly remount, call drive.mount(\"/content/Drive\", force_remount=True).\n"
          ],
          "name": "stdout"
        }
      ]
    },
    {
      "cell_type": "markdown",
      "metadata": {
        "id": "ihCpAW7glayU"
      },
      "source": [
        "# Import des données et vérification des valeurs manquantes ou nulles "
      ]
    },
    {
      "cell_type": "code",
      "metadata": {
        "colab": {
          "base_uri": "https://localhost:8080/",
          "height": 222
        },
        "id": "CKGQ11_blNMC",
        "outputId": "60f01c4b-acee-44d3-ea8f-f8e34c03eff1"
      },
      "source": [
        "# Import des données et visualisation des première lignes \n",
        "df = pd.read_excel(\"/content/Drive/MyDrive/Projet Econométrie/quarterly.xls\")\n",
        "df.head()"
      ],
      "execution_count": 4,
      "outputs": [
        {
          "output_type": "execute_result",
          "data": {
            "text/html": [
              "<div>\n",
              "<style scoped>\n",
              "    .dataframe tbody tr th:only-of-type {\n",
              "        vertical-align: middle;\n",
              "    }\n",
              "\n",
              "    .dataframe tbody tr th {\n",
              "        vertical-align: top;\n",
              "    }\n",
              "\n",
              "    .dataframe thead th {\n",
              "        text-align: right;\n",
              "    }\n",
              "</style>\n",
              "<table border=\"1\" class=\"dataframe\">\n",
              "  <thead>\n",
              "    <tr style=\"text-align: right;\">\n",
              "      <th></th>\n",
              "      <th>DATE</th>\n",
              "      <th>FFR</th>\n",
              "      <th>Tbill</th>\n",
              "      <th>Tb1yr</th>\n",
              "      <th>r5</th>\n",
              "      <th>r10</th>\n",
              "      <th>PPINSA</th>\n",
              "      <th>Finished</th>\n",
              "      <th>CPI</th>\n",
              "      <th>CPICORE</th>\n",
              "      <th>M1NSA</th>\n",
              "      <th>M2SA</th>\n",
              "      <th>M2NSA</th>\n",
              "      <th>Unemp</th>\n",
              "      <th>IndProd</th>\n",
              "      <th>RGDP</th>\n",
              "      <th>Potent</th>\n",
              "      <th>Deflator</th>\n",
              "      <th>Curr</th>\n",
              "    </tr>\n",
              "  </thead>\n",
              "  <tbody>\n",
              "    <tr>\n",
              "      <th>0</th>\n",
              "      <td>1960Q1</td>\n",
              "      <td>3.93</td>\n",
              "      <td>3.87</td>\n",
              "      <td>4.57</td>\n",
              "      <td>4.64</td>\n",
              "      <td>4.49</td>\n",
              "      <td>31.67</td>\n",
              "      <td>33.20</td>\n",
              "      <td>29.40</td>\n",
              "      <td>18.92</td>\n",
              "      <td>140.53</td>\n",
              "      <td>896.1</td>\n",
              "      <td>299.40</td>\n",
              "      <td>5.13</td>\n",
              "      <td>23.93</td>\n",
              "      <td>2845.3</td>\n",
              "      <td>2824.2</td>\n",
              "      <td>18.521</td>\n",
              "      <td>31.830</td>\n",
              "    </tr>\n",
              "    <tr>\n",
              "      <th>1</th>\n",
              "      <td>1960Q2</td>\n",
              "      <td>3.70</td>\n",
              "      <td>2.99</td>\n",
              "      <td>3.87</td>\n",
              "      <td>4.30</td>\n",
              "      <td>4.26</td>\n",
              "      <td>31.73</td>\n",
              "      <td>33.40</td>\n",
              "      <td>29.57</td>\n",
              "      <td>19.00</td>\n",
              "      <td>138.40</td>\n",
              "      <td>903.3</td>\n",
              "      <td>300.03</td>\n",
              "      <td>5.23</td>\n",
              "      <td>23.41</td>\n",
              "      <td>2832.0</td>\n",
              "      <td>2851.2</td>\n",
              "      <td>18.579</td>\n",
              "      <td>31.862</td>\n",
              "    </tr>\n",
              "    <tr>\n",
              "      <th>2</th>\n",
              "      <td>1960Q3</td>\n",
              "      <td>2.94</td>\n",
              "      <td>2.36</td>\n",
              "      <td>3.07</td>\n",
              "      <td>3.67</td>\n",
              "      <td>3.83</td>\n",
              "      <td>31.63</td>\n",
              "      <td>33.43</td>\n",
              "      <td>29.59</td>\n",
              "      <td>19.07</td>\n",
              "      <td>139.60</td>\n",
              "      <td>919.4</td>\n",
              "      <td>305.50</td>\n",
              "      <td>5.53</td>\n",
              "      <td>23.02</td>\n",
              "      <td>2836.6</td>\n",
              "      <td>2878.7</td>\n",
              "      <td>18.648</td>\n",
              "      <td>32.217</td>\n",
              "    </tr>\n",
              "    <tr>\n",
              "      <th>3</th>\n",
              "      <td>1960Q4</td>\n",
              "      <td>2.30</td>\n",
              "      <td>2.31</td>\n",
              "      <td>2.99</td>\n",
              "      <td>3.75</td>\n",
              "      <td>3.89</td>\n",
              "      <td>31.70</td>\n",
              "      <td>33.67</td>\n",
              "      <td>29.78</td>\n",
              "      <td>19.14</td>\n",
              "      <td>142.67</td>\n",
              "      <td>932.8</td>\n",
              "      <td>312.30</td>\n",
              "      <td>6.27</td>\n",
              "      <td>22.47</td>\n",
              "      <td>2800.2</td>\n",
              "      <td>2906.7</td>\n",
              "      <td>18.700</td>\n",
              "      <td>32.624</td>\n",
              "    </tr>\n",
              "    <tr>\n",
              "      <th>4</th>\n",
              "      <td>1961Q1</td>\n",
              "      <td>2.00</td>\n",
              "      <td>2.35</td>\n",
              "      <td>2.87</td>\n",
              "      <td>3.64</td>\n",
              "      <td>3.79</td>\n",
              "      <td>31.80</td>\n",
              "      <td>33.63</td>\n",
              "      <td>29.84</td>\n",
              "      <td>19.17</td>\n",
              "      <td>142.23</td>\n",
              "      <td>948.9</td>\n",
              "      <td>317.10</td>\n",
              "      <td>6.80</td>\n",
              "      <td>22.13</td>\n",
              "      <td>2816.9</td>\n",
              "      <td>2934.8</td>\n",
              "      <td>18.743</td>\n",
              "      <td>32.073</td>\n",
              "    </tr>\n",
              "  </tbody>\n",
              "</table>\n",
              "</div>"
            ],
            "text/plain": [
              "     DATE   FFR  Tbill  Tb1yr    r5  ...  IndProd    RGDP  Potent  Deflator    Curr\n",
              "0  1960Q1  3.93   3.87   4.57  4.64  ...    23.93  2845.3  2824.2    18.521  31.830\n",
              "1  1960Q2  3.70   2.99   3.87  4.30  ...    23.41  2832.0  2851.2    18.579  31.862\n",
              "2  1960Q3  2.94   2.36   3.07  3.67  ...    23.02  2836.6  2878.7    18.648  32.217\n",
              "3  1960Q4  2.30   2.31   2.99  3.75  ...    22.47  2800.2  2906.7    18.700  32.624\n",
              "4  1961Q1  2.00   2.35   2.87  3.64  ...    22.13  2816.9  2934.8    18.743  32.073\n",
              "\n",
              "[5 rows x 19 columns]"
            ]
          },
          "metadata": {
            "tags": []
          },
          "execution_count": 4
        }
      ]
    },
    {
      "cell_type": "code",
      "metadata": {
        "colab": {
          "base_uri": "https://localhost:8080/"
        },
        "id": "dbG90pxBym_3",
        "outputId": "cc84dda5-de4f-4b95-9df4-3f17f0c8ebcd"
      },
      "source": [
        "# Valeurs Na \n",
        "df.isna().sum()"
      ],
      "execution_count": 5,
      "outputs": [
        {
          "output_type": "execute_result",
          "data": {
            "text/plain": [
              "DATE        0\n",
              "FFR         0\n",
              "Tbill       0\n",
              "Tb1yr       0\n",
              "r5          0\n",
              "r10         0\n",
              "PPINSA      0\n",
              "Finished    0\n",
              "CPI         0\n",
              "CPICORE     0\n",
              "M1NSA       0\n",
              "M2SA        0\n",
              "M2NSA       0\n",
              "Unemp       0\n",
              "IndProd     0\n",
              "RGDP        0\n",
              "Potent      0\n",
              "Deflator    0\n",
              "Curr        0\n",
              "dtype: int64"
            ]
          },
          "metadata": {
            "tags": []
          },
          "execution_count": 5
        }
      ]
    },
    {
      "cell_type": "code",
      "metadata": {
        "colab": {
          "base_uri": "https://localhost:8080/"
        },
        "id": "AZ4eF94Jy3WZ",
        "outputId": "4afd6795-859e-4208-bef9-5fb67b545f28"
      },
      "source": [
        "# Valeurs nulles \n",
        "df.isnull().sum()"
      ],
      "execution_count": 6,
      "outputs": [
        {
          "output_type": "execute_result",
          "data": {
            "text/plain": [
              "DATE        0\n",
              "FFR         0\n",
              "Tbill       0\n",
              "Tb1yr       0\n",
              "r5          0\n",
              "r10         0\n",
              "PPINSA      0\n",
              "Finished    0\n",
              "CPI         0\n",
              "CPICORE     0\n",
              "M1NSA       0\n",
              "M2SA        0\n",
              "M2NSA       0\n",
              "Unemp       0\n",
              "IndProd     0\n",
              "RGDP        0\n",
              "Potent      0\n",
              "Deflator    0\n",
              "Curr        0\n",
              "dtype: int64"
            ]
          },
          "metadata": {
            "tags": []
          },
          "execution_count": 6
        }
      ]
    },
    {
      "cell_type": "markdown",
      "metadata": {
        "id": "VqwEeq90pheW"
      },
      "source": [
        "Nous pouvons remarqur qu'il n'y a pas de valeur manquantes ou valeurs nulles dans la série. "
      ]
    },
    {
      "cell_type": "markdown",
      "metadata": {
        "id": "xchUW7DQmMGW"
      },
      "source": [
        "# Etude de la série de CPI\n"
      ]
    },
    {
      "cell_type": "markdown",
      "metadata": {
        "id": "jPG7Sbuhm13f"
      },
      "source": [
        "**Définition du CPI**:  En anglais, Consumer Price Index, ou indice des prix à la consommation, est un indicateurs économique, qui permet d'étudier l'évolution du prix d'un panier  type de biens de consommation et de services achetés par les ménages (ex: transport, alimentation, services médicaux..). Les changement du CPI sont associés à des changement du coût de la vie. Il est également utilisé pour étudier des périodes d'inflation et de déflation. Pour en apprendre plus, voir le lien ci-dessous.\n",
        "\n",
        "**Source:** https://www.investopedia.com/terms/c/consumerpriceindex.asp"
      ]
    },
    {
      "cell_type": "markdown",
      "metadata": {
        "id": "zh9WFljFoRSl"
      },
      "source": [
        "## Description et visualisation de la série."
      ]
    },
    {
      "cell_type": "code",
      "metadata": {
        "id": "yyWmOLidoJgm"
      },
      "source": [
        "# Série de CPI\n",
        "CPI = df['CPI']"
      ],
      "execution_count": 7,
      "outputs": []
    },
    {
      "cell_type": "code",
      "metadata": {
        "colab": {
          "base_uri": "https://localhost:8080/"
        },
        "id": "CC3wX7psmf0O",
        "outputId": "7b8912e5-8a3c-40e7-90a8-936deab3c3e9"
      },
      "source": [
        "# Description des valeurs prises par le CPI\n",
        "CPI.describe()"
      ],
      "execution_count": 8,
      "outputs": [
        {
          "output_type": "execute_result",
          "data": {
            "text/plain": [
              "count    212.000000\n",
              "mean     113.182028\n",
              "std       65.310267\n",
              "min       29.400000\n",
              "25%       43.705000\n",
              "50%      109.635000\n",
              "75%      167.507500\n",
              "max      231.280000\n",
              "Name: CPI, dtype: float64"
            ]
          },
          "metadata": {
            "tags": []
          },
          "execution_count": 8
        }
      ]
    },
    {
      "cell_type": "code",
      "metadata": {
        "id": "R0eoWlJcme-L"
      },
      "source": [
        "# Ajustement du format de la date\n",
        "date = df['DATE']\n",
        "date = pd.to_datetime(date)"
      ],
      "execution_count": 9,
      "outputs": []
    },
    {
      "cell_type": "code",
      "metadata": {
        "colab": {
          "base_uri": "https://localhost:8080/",
          "height": 295
        },
        "id": "HUOVfh19mZw2",
        "outputId": "f03a2145-cc7f-4f15-c652-838034109807"
      },
      "source": [
        "# Graphique du CPI en fonction du temps \n",
        "plt.plot(date, CPI);\n",
        "plt.title(\"Evolution du CPI au cours du temps\")\n",
        "plt.xlabel(\"Date\")\n",
        "plt.ylabel(\"CPI\")\n",
        "plt.show()"
      ],
      "execution_count": 10,
      "outputs": [
        {
          "output_type": "display_data",
          "data": {
            "image/png": "[encoded data removed]",
            "text/plain": [
              "<Figure size 432x288 with 1 Axes>"
            ]
          },
          "metadata": {
            "tags": [],
            "needs_background": "light"
          }
        }
      ]
    },
    {
      "cell_type": "markdown",
      "metadata": {
        "id": "7YG81fDToaXK"
      },
      "source": [
        "Nous pouvons remarquer que la série a une tendance générale croissante, ce qui est en cohérence avec le développement économique. La série est donc clairement non stationnaire."
      ]
    },
    {
      "cell_type": "markdown",
      "metadata": {
        "id": "JErSiU3toWFs"
      },
      "source": [
        "## Stationnarisation de la série de CPI "
      ]
    },
    {
      "cell_type": "markdown",
      "metadata": {
        "id": "hZAtyNbupr12"
      },
      "source": [
        "**Définition de quelques termes:**\n",
        "\n",
        "- La **tendance** de la série temporelle caractérise son évolution générale durant de le temps. \n",
        "\n",
        "- La **stationnarité** d'une série temporelle est définie par une moyenne constante durant le temps, et la non accumulation des effets précédents. \n",
        "\n",
        "- **Stationnariser une série:** Est l'action de rendre une série stationnaire, en retirant le terme de tendance. Ceci permet de contrôler les auto-corrélations de la série.\n",
        "\n",
        "Pour stationnariser la série, plusieurs types de tendances vont être étudiés: tendance linéaire, quadration, log, et exponentielles. Nous déterminerons par la suite la tendance la plus édéquate à la série."
      ]
    },
    {
      "cell_type": "markdown",
      "metadata": {
        "id": "lZZTd1OEqu5t"
      },
      "source": [
        "### Tendance Linéaire"
      ]
    },
    {
      "cell_type": "code",
      "metadata": {
        "colab": {
          "base_uri": "https://localhost:8080/",
          "height": 591
        },
        "id": "XzifW7TnqxJK",
        "outputId": "0511c449-a79f-4970-adb0-847d5e5c3a0e"
      },
      "source": [
        "# Construction de la feature matrix \n",
        "X = [i for i in range(len(CPI))]\n",
        "X = np.reshape(X, (len(X), 1))\n",
        "\n",
        "# Apprentissage du modèle \n",
        "model = LinearRegression(fit_intercept = True)\n",
        "model.fit(X, CPI)\n",
        "linear_trend = model.predict(X)\n",
        "\n",
        "# Graphique de la tendance \n",
        "plt.title(\"CPI et Tendance linéaire\")\n",
        "plt.plot(date, linear_trend, label = 'Linear Trend')\n",
        "plt.plot(date, CPI, label = 'CPI')\n",
        "plt.legend()\n",
        "plt.ylabel(\"CPI\")\n",
        "plt.xlabel('Date')\n",
        "plt.show()\n",
        "\n",
        "# Graphique des résidus \n",
        "plt.title(\"Série de CPI stationnarisée avec une tendace linéaire \")\n",
        "plt.plot(date, CPI - linear_trend, label = 'Removed Linear Trend')\n",
        "plt.legend()\n",
        "plt.ylabel(\"CPI\")\n",
        "plt.xlabel('Date')\n",
        "plt.show()\n",
        "\n",
        "print(\"Le coefficient de détermination obtenu est:\",\n",
        "      r2_score(CPI, linear_trend))"
      ],
      "execution_count": 11,
      "outputs": [
        {
          "output_type": "display_data",
          "data": {
            "image/png": "[encoded data removed]",
            "text/plain": [
              "<Figure size 432x288 with 1 Axes>"
            ]
          },
          "metadata": {
            "tags": [],
            "needs_background": "light"
          }
        },
        {
          "output_type": "display_data",
          "data": {
            "image/png": "[encoded data removed]",
            "text/plain": [
              "<Figure size 432x288 with 1 Axes>"
            ]
          },
          "metadata": {
            "tags": [],
            "needs_background": "light"
          }
        },
        {
          "output_type": "stream",
          "text": [
            "Le coefficient de détermination obtenu est: 0.9828376652371925\n"
          ],
          "name": "stdout"
        }
      ]
    },
    {
      "cell_type": "markdown",
      "metadata": {
        "id": "PT700YSpq_6s"
      },
      "source": [
        "La stationnarisation est non satisfaisante. En effet, il réside une tendance décroissante au niveau des résidus entre 1960 et 1970. De plus, les résidus ne sont pas répartis aléatoirement autour de zéro."
      ]
    },
    {
      "cell_type": "markdown",
      "metadata": {
        "id": "q1SST69wrYaS"
      },
      "source": [
        "### Tendance Quadratique d'ordre 2"
      ]
    },
    {
      "cell_type": "code",
      "metadata": {
        "colab": {
          "base_uri": "https://localhost:8080/",
          "height": 577
        },
        "id": "RYdkmAGXljcC",
        "outputId": "7f8c42b7-03ff-41ae-fa33-bc4bc540ac91"
      },
      "source": [
        "# Construction de la feature matrix \n",
        "X = [i for i in range(len(CPI))]\n",
        "X = np.reshape(X, (len(X), 1))\n",
        "\n",
        "poly = PolynomialFeatures(degree = 2, include_bias = False)\n",
        "X_deg_2 = poly.fit_transform(X)\n",
        "\n",
        "# Apprentissage de modèle\n",
        "model = LinearRegression(fit_intercept= True)\n",
        "model.fit(X_deg_2, CPI), \n",
        "quadratic_trend = model.predict(X_deg_2)\n",
        "\n",
        "# Graphique de tendance \n",
        "plt.title(\"CPI et Tendance Quadratique d'ordre 2 \")\n",
        "plt.plot(date, quadratic_trend, label = 'Quadratic Trend')\n",
        "plt.plot(date, CPI, label = 'CPI')\n",
        "plt.legend()\n",
        "plt.show()\n",
        "\n",
        "# Graphique de résidus \n",
        "plt.title(\"Série de CPI stationnarisée avec une tendace quadratique d'ordre 2 \")\n",
        "plt.plot(date, CPI - quadratic_trend, label = 'Removed quadratic Trend')\n",
        "plt.legend()\n",
        "plt.ylabel(\"CPI\")\n",
        "plt.xlabel('Date')\n",
        "plt.show()\n",
        "\n",
        "print(\"Le coefficient de détermination obtenu est:\",\n",
        "      r2_score(CPI, quadratic_trend))"
      ],
      "execution_count": 12,
      "outputs": [
        {
          "output_type": "display_data",
          "data": {
            "image/png": "[encoded data removed]",
            "text/plain": [
              "<Figure size 432x288 with 1 Axes>"
            ]
          },
          "metadata": {
            "tags": [],
            "needs_background": "light"
          }
        },
        {
          "output_type": "display_data",
          "data": {
            "image/png": "[encoded data removed]",
            "text/plain": [
              "<Figure size 432x288 with 1 Axes>"
            ]
          },
          "metadata": {
            "tags": [],
            "needs_background": "light"
          }
        },
        {
          "output_type": "stream",
          "text": [
            "Le coefficient de détermination obtenu est: 0.9904534599108377\n"
          ],
          "name": "stdout"
        }
      ]
    },
    {
      "cell_type": "markdown",
      "metadata": {
        "id": "UACfAa-frpAC"
      },
      "source": [
        "La stationnarisation est non satisfaisante, pour les mêmes raisons que la tendance linéaire. "
      ]
    },
    {
      "cell_type": "markdown",
      "metadata": {
        "id": "jGVdD85Msw9Z"
      },
      "source": [
        "### Tendance Quadratique d'ordre 4"
      ]
    },
    {
      "cell_type": "code",
      "metadata": {
        "colab": {
          "base_uri": "https://localhost:8080/",
          "height": 577
        },
        "id": "zt9UK1G1sMJP",
        "outputId": "6d1bc217-7f9a-473a-82d7-ec76b8b961ef"
      },
      "source": [
        "# Construction de la feature matrix \n",
        "X = [i for i in range(0, len(CPI))]\n",
        "X = np.reshape(X, (len(X), 1))\n",
        "\n",
        "\n",
        "poly = PolynomialFeatures(degree = 4, include_bias = False)\n",
        "X_deg_4 = poly.fit_transform(X)\n",
        "\n",
        "# Apprentissage de modèle\n",
        "model = LinearRegression(fit_intercept= True)\n",
        "model.fit(X_deg_4, CPI), \n",
        "quadratic_trend = model.predict(X_deg_4)\n",
        "\n",
        "# Graphique de tendance \n",
        "plt.title(\"CPI et Tendance Quadratique d'ordre 4\")\n",
        "plt.plot(date, quadratic_trend, label = 'Quadratic Trend')\n",
        "plt.plot(date, CPI, label = 'CPI')\n",
        "plt.legend()\n",
        "plt.show()\n",
        "\n",
        "# Graphique de résidus \n",
        "plt.title(\"Série de CPI stationnarisée avec une tendace quadratique d'ordre 4\")\n",
        "plt.plot(date, CPI - quadratic_trend, label = 'Removed quadratic Trend')\n",
        "plt.legend()\n",
        "plt.ylabel(\"CPI\")\n",
        "plt.xlabel('Date')\n",
        "plt.show()\n",
        "\n",
        "\n",
        "print(\"Le coefficient de détermination obtenu est:\",\n",
        "      r2_score(CPI, quadratic_trend))"
      ],
      "execution_count": 13,
      "outputs": [
        {
          "output_type": "display_data",
          "data": {
            "image/png": "[encoded data removed]",
            "text/plain": [
              "<Figure size 432x288 with 1 Axes>"
            ]
          },
          "metadata": {
            "tags": [],
            "needs_background": "light"
          }
        },
        {
          "output_type": "display_data",
          "data": {
            "image/png": "[encoded data removed]",
            "text/plain": [
              "<Figure size 432x288 with 1 Axes>"
            ]
          },
          "metadata": {
            "tags": [],
            "needs_background": "light"
          }
        },
        {
          "output_type": "stream",
          "text": [
            "Le coefficient de détermination obtenu est: 0.9981264534424436\n"
          ],
          "name": "stdout"
        }
      ]
    },
    {
      "cell_type": "markdown",
      "metadata": {
        "id": "R8xNvHpCtPKA"
      },
      "source": [
        "### Tendance Quadratique d'ordre 6"
      ]
    },
    {
      "cell_type": "code",
      "metadata": {
        "colab": {
          "base_uri": "https://localhost:8080/",
          "height": 577
        },
        "id": "1i_hhyFQtPKC",
        "outputId": "2bf6b8c8-64b4-4805-870a-661f29225985"
      },
      "source": [
        "# Construction de la feature matrix \n",
        "X = [i for i in range(0, len(CPI))]\n",
        "X = np.reshape(X, (len(X), 1))\n",
        "\n",
        "\n",
        "poly = PolynomialFeatures(degree = 6, include_bias = False)\n",
        "X_deg_6 = poly.fit_transform(X)\n",
        "\n",
        "# Apprentissage de modèle\n",
        "model = LinearRegression(fit_intercept= True)\n",
        "model.fit(X_deg_6, CPI), \n",
        "quadratic_trend = model.predict(X_deg_6)\n",
        "\n",
        "# Graphique de tendance \n",
        "plt.title(\"CPI et Tendance Quadratique d'ordre 6\")\n",
        "plt.plot(date, quadratic_trend, label = 'Quadratic Trend')\n",
        "plt.plot(date, CPI, label = 'CPI')\n",
        "plt.legend()\n",
        "plt.show()\n",
        "\n",
        "# Graphique de résidus \n",
        "plt.title(\"Série de CPI stationnarisée avec une tendace quadratique d'ordre 6\")\n",
        "plt.plot(date, CPI - quadratic_trend, label = 'Removed quadratic Trend')\n",
        "plt.legend()\n",
        "plt.ylabel(\"CPI\")\n",
        "plt.xlabel('Date')\n",
        "plt.show()\n",
        "\n",
        "\n",
        "print(\"Le coefficient de détermination obtenu est:\",\n",
        "      r2_score(CPI, quadratic_trend))"
      ],
      "execution_count": 14,
      "outputs": [
        {
          "output_type": "display_data",
          "data": {
            "image/png": "[encoded data removed]",
            "text/plain": [
              "<Figure size 432x288 with 1 Axes>"
            ]
          },
          "metadata": {
            "tags": [],
            "needs_background": "light"
          }
        },
        {
          "output_type": "display_data",
          "data": {
            "image/png": "[encoded data removed]",
            "text/plain": [
              "<Figure size 432x288 with 1 Axes>"
            ]
          },
          "metadata": {
            "tags": [],
            "needs_background": "light"
          }
        },
        {
          "output_type": "stream",
          "text": [
            "Le coefficient de détermination obtenu est: 0.9989621504553035\n"
          ],
          "name": "stdout"
        }
      ]
    },
    {
      "cell_type": "markdown",
      "metadata": {
        "id": "EW6yE9latfYr"
      },
      "source": [
        "### Stationnarisation logarithmique"
      ]
    },
    {
      "cell_type": "code",
      "metadata": {
        "colab": {
          "base_uri": "https://localhost:8080/",
          "height": 577
        },
        "id": "2HBl50q1tVgK",
        "outputId": "fb89037b-40fa-40ab-dad9-8dab240b8f4c"
      },
      "source": [
        "# Construction de la fature matrix\n",
        "X = [np.log(i) for i in range(1, len(CPI)+1)]\n",
        "X = np.reshape(X, (len(X), 1))\n",
        "\n",
        "# Apprentissage du modèle \n",
        "model = LinearRegression(fit_intercept = True)\n",
        "model.fit(X, CPI), \n",
        "log_trend = model.predict(X)\n",
        "\n",
        "\n",
        "# Graphique tendance et CPI\n",
        "plt.title(\"CPI et Tendance Logarithmique\")\n",
        "plt.plot(date, log_trend, label = 'Logarithmic Trend')\n",
        "plt.plot(date, CPI, label = 'CPI')\n",
        "plt.legend()\n",
        "plt.show()\n",
        "\n",
        "# Graphiques des erreurs \n",
        "plt.title(\"Série de CPI stationnarisée avec une tendace  logarithmique \")\n",
        "plt.plot(date, CPI - log_trend, label = 'Removed Logarithmic Trend')\n",
        "plt.legend()\n",
        "plt.ylabel(\"CPI\")\n",
        "plt.xlabel('Date')\n",
        "plt.show()\n",
        "\n",
        "\n",
        "print(\"Le coefficient de détermination obtenu est:\",\n",
        "      r2_score(CPI, log_trend))"
      ],
      "execution_count": 15,
      "outputs": [
        {
          "output_type": "display_data",
          "data": {
            "image/png": "[encoded data removed]",
            "text/plain": [
              "<Figure size 432x288 with 1 Axes>"
            ]
          },
          "metadata": {
            "tags": [],
            "needs_background": "light"
          }
        },
        {
          "output_type": "display_data",
          "data": {
            "image/png": "[encoded data removed]",
            "text/plain": [
              "<Figure size 432x288 with 1 Axes>"
            ]
          },
          "metadata": {
            "tags": [],
            "needs_background": "light"
          }
        },
        {
          "output_type": "stream",
          "text": [
            "Le coefficient de détermination obtenu est: 0.6832521649598962\n"
          ],
          "name": "stdout"
        }
      ]
    },
    {
      "cell_type": "markdown",
      "metadata": {
        "id": "i0R2SPi0tkrZ"
      },
      "source": [
        "### Stationnarisation exponnentielle"
      ]
    },
    {
      "cell_type": "code",
      "metadata": {
        "colab": {
          "base_uri": "https://localhost:8080/",
          "height": 577
        },
        "id": "9J7mf8IUtik_",
        "outputId": "934aa7e4-86a1-4a24-988c-33f9e1d2595a"
      },
      "source": [
        "# Construction de la fature matrix\n",
        "df[\"time\"]=[i for i in range(0, df.shape[0])]\n",
        "df[\"const\"] = 1\n",
        "X = df[[\"const\", \"time\"]]\n",
        "log_y = np.log(CPI)\n",
        "\n",
        "# Apprentissage du modèle \n",
        "model_log=sm.OLS(log_y,X)\n",
        "results= model_log.fit()\n",
        "log_trend = np.exp(results.fittedvalues)# model_log.predict(X)\n",
        "\n",
        "\n",
        "# Graphique tendance et CPI\n",
        "plt.title(\"CPI et Tendance Exponentielle\")\n",
        "plt.plot(date, log_trend, label = 'Exponential Trend')\n",
        "plt.plot(date,CPI, label = 'CPI')\n",
        "plt.legend()\n",
        "plt.show()\n",
        "\n",
        "# Graphiques des erreurs \n",
        "plt.title(\"Série de CPI stationnarisée avec une tendance exponentielle \")\n",
        "plt.plot(date,  CPI- log_trend, label = 'Removed Exponential Trend')\n",
        "plt.legend()\n",
        "plt.ylabel(\"CPI\")\n",
        "plt.xlabel('Date')\n",
        "plt.show()\n",
        "\n",
        "\n",
        "print(\"Le coefficient de détermination obtenu est:\",\n",
        "     results.rsquared)"
      ],
      "execution_count": 16,
      "outputs": [
        {
          "output_type": "display_data",
          "data": {
            "image/png": "[encoded data removed]",
            "text/plain": [
              "<Figure size 432x288 with 1 Axes>"
            ]
          },
          "metadata": {
            "tags": [],
            "needs_background": "light"
          }
        },
        {
          "output_type": "display_data",
          "data": {
            "image/png": "[encoded data removed]",
            "text/plain": [
              "<Figure size 432x288 with 1 Axes>"
            ]
          },
          "metadata": {
            "tags": [],
            "needs_background": "light"
          }
        },
        {
          "output_type": "stream",
          "text": [
            "Le coefficient de détermination obtenu est: 0.9607548822574083\n"
          ],
          "name": "stdout"
        }
      ]
    },
    {
      "cell_type": "markdown",
      "metadata": {
        "id": "3emV1-zTt32V"
      },
      "source": [
        "### Stationnarisation avec moyenne mobile "
      ]
    },
    {
      "cell_type": "markdown",
      "metadata": {
        "id": "UicOmcc3uICs"
      },
      "source": [
        "- **Moyenne mobile**: La moyenne mobile, ou moyenne glissante, (moving average), est une moyenne statistique adaptée aux analyse de séries temporelles. La moyenne est réalisé sur les valeur précédentes et/ou suivantes du point en considération. Cette moyenne est appelée mobile car calculée pour chaque pas de temps. Pour plus d'informations, voir la source.\n",
        "\n",
        "**Source:** \n",
        "https://fr.wikipedia.org/wiki/Moyenne_mobile"
      ]
    },
    {
      "cell_type": "code",
      "metadata": {
        "colab": {
          "base_uri": "https://localhost:8080/",
          "height": 573
        },
        "id": "QLz4g4ndtqvx",
        "outputId": "9dcc7835-6b9a-4aea-8a63-e9c07dad9a30"
      },
      "source": [
        "# Calcul de moyenne mobile centrée 5x5\n",
        "CPI_rm_5 = CPI.rolling(window = 5,\n",
        "                       center  = True).mean() \n",
        "\n",
        "# Visualisation des deux séries \n",
        "plt.plot(date, CPI, label = 'CPI')\n",
        "plt.plot(date, CPI_rm_5, label = \"Moyenne mobile centrée de pas 5\")\n",
        "plt.title(\"Moyenne mobile et CPI\")\n",
        "plt.xlabel(\"Date\")\n",
        "plt.ylabel(\"CPI\")\n",
        "plt.legend()\n",
        "plt.show()\n",
        "\n",
        "# Série stationnarisée  avec moyenne mobile\n",
        "CPI_detrended_rm_5 = CPI - CPI_rm_5\n",
        "plt.plot(date, CPI_detrended_rm_5, \n",
        "         label = \"CPI stationnarissée en utilisant une moyenne mobile centrée\")\n",
        "plt.title(\"Série stationnarisée\")\n",
        "plt.legend()\n",
        "plt.ylabel(\"Date\")\n",
        "plt.xlabel(\"CPI\")\n",
        "plt.show()"
      ],
      "execution_count": 17,
      "outputs": [
        {
          "output_type": "display_data",
          "data": {
            "image/png": "[encoded data removed]",
            "text/plain": [
              "<Figure size 432x288 with 1 Axes>"
            ]
          },
          "metadata": {
            "tags": [],
            "needs_background": "light"
          }
        },
        {
          "output_type": "display_data",
          "data": {
            "image/png": "[encoded data removed]",
            "text/plain": [
              "<Figure size 432x288 with 1 Axes>"
            ]
          },
          "metadata": {
            "tags": [],
            "needs_background": "light"
          }
        }
      ]
    },
    {
      "cell_type": "markdown",
      "metadata": {
        "id": "U-HtQgfEveH5"
      },
      "source": [
        "# Etude de l'inflation"
      ]
    },
    {
      "cell_type": "markdown",
      "metadata": {
        "id": "LfEKkkYQwfVA"
      },
      "source": [
        "**Inflation**:  L'inflation caractérise la décroissance du pouvoir d'achat d'une monaie au cours du temps. \n",
        "L'inflation peut être étudiée ent utilisant la le CPI, et la formule suivante: \n",
        "\n",
        "$$\\frac{( CPI_{t+1} - CPI_t )}{CPI_t}*100*4$$\n",
        "\n",
        "Pour plus d'informations se référer à la source ci-dessous.\n",
        "\n",
        "**Source:** https://www.investopedia.com/terms/i/inflation.asp"
      ]
    },
    {
      "cell_type": "markdown",
      "metadata": {
        "id": "tp0m3XnhxQva"
      },
      "source": [
        "## Calcul et description de l'inflation"
      ]
    },
    {
      "cell_type": "code",
      "metadata": {
        "id": "ujYg97Yxt_aM"
      },
      "source": [
        "inflation = df['CPI'].pct_change()*4*100  #pourcentage et taux annuel "
      ],
      "execution_count": 18,
      "outputs": []
    },
    {
      "cell_type": "code",
      "metadata": {
        "colab": {
          "base_uri": "https://localhost:8080/"
        },
        "id": "R9gyRMP7xYiH",
        "outputId": "77885a0a-8ed0-4656-f586-964132e123de"
      },
      "source": [
        "inflation.describe()"
      ],
      "execution_count": 19,
      "outputs": [
        {
          "output_type": "execute_result",
          "data": {
            "text/plain": [
              "count    211.000000\n",
              "mean       3.941158\n",
              "std        3.098014\n",
              "min       -9.156538\n",
              "25%        2.167980\n",
              "50%        3.430709\n",
              "75%        4.885224\n",
              "max       15.783243\n",
              "Name: CPI, dtype: float64"
            ]
          },
          "metadata": {
            "tags": []
          },
          "execution_count": 19
        }
      ]
    },
    {
      "cell_type": "markdown",
      "metadata": {
        "id": "yhz08EaMxaRY"
      },
      "source": [
        "## Evolution de l'inflation au cours du temps "
      ]
    },
    {
      "cell_type": "code",
      "metadata": {
        "colab": {
          "base_uri": "https://localhost:8080/",
          "height": 295
        },
        "id": "lJ3m5YkUvigs",
        "outputId": "df8fa6e1-e86d-4aa3-bf55-8f874fdfafff"
      },
      "source": [
        "plt.plot(date, inflation, label = \"Inflation\", c = 'green')\n",
        "plt.title(\"Evolution du taux d'inflation au cour du temps\")\n",
        "plt.ylabel('Inflation en pourcentage')\n",
        "plt.xlabel(\"Date\")\n",
        "plt.legend()\n",
        "plt.show()"
      ],
      "execution_count": 20,
      "outputs": [
        {
          "output_type": "display_data",
          "data": {
            "image/png": "[encoded data removed]",
            "text/plain": [
              "<Figure size 432x288 with 1 Axes>"
            ]
          },
          "metadata": {
            "tags": [],
            "needs_background": "light"
          }
        }
      ]
    },
    {
      "cell_type": "markdown",
      "metadata": {
        "id": "vNI8pM3Zx0OH"
      },
      "source": [
        "Entre 1960 et 1980, on remarque une forte augmentation  générale du taux d'inflation. Puis une importante baisse générale entre 1980 et 1990.\n",
        "Pour ensuite se stabiliser jusqu'en 2008 où l'on observe une chute du taux d'inflations, et une variation importante. \n",
        "Ce graphique est assez parlant, en effet on peut y voir different événement marquant de l'histoire economique americaine, en observant les différentes régions de grandes variations.\n"
      ]
    },
    {
      "cell_type": "markdown",
      "metadata": {
        "id": "Qza17zlIyRh1"
      },
      "source": [
        "## Etude des autocorrélogrammes (ACF) et autocorrélogrammes partiels (PACF) de l'inflation\n"
      ]
    },
    {
      "cell_type": "markdown",
      "metadata": {
        "id": "k7fS4BFgydjS"
      },
      "source": [
        "**Quelques définitions:**\n",
        "- **Autocorrelation Function ACF**: Correspond aux correlations de la série suivant ses propre lags. Soit k un lag de la série $y$, le coefficient associé au lag k correspond à $Cov(y_{t+k}, y_t)$\n",
        "\n",
        "- **Partial Autocorrelation function PACF**: Correspond aux correlations entre la série avec en fonction de ses lags, en prenant des intervalles intermédiaires. Dans ce cas, nous prenons en compte une régression linéaire. \n",
        "Pour le lag k, on considère la $Cov(y_{t+k}, y_t)$  où $y_{t+k}$ est défini tel quel:\n",
        "$$y_{t+k} = \\beta_0 + \\beta_1 y_{t-k+1} + ... + \\beta_k y_{t}  + \\epsilon_t$$\n",
        "\n",
        "avec $\\epsilon_t$ correspondant au résidu à l'instant t.  \n"
      ]
    },
    {
      "cell_type": "code",
      "metadata": {
        "id": "q8OXMeRPz2uY"
      },
      "source": [
        "inflation  = inflation[1:]"
      ],
      "execution_count": 21,
      "outputs": []
    },
    {
      "cell_type": "code",
      "metadata": {
        "colab": {
          "base_uri": "https://localhost:8080/",
          "height": 545
        },
        "id": "Y8fGLl191Xi9",
        "outputId": "535ae776-6065-4633-a701-6c1232362070"
      },
      "source": [
        "plot_acf(inflation, alpha = 0.05)\n",
        "plt.show()\n",
        "\n",
        "plot_pacf(inflation, alpha = 0.05)\n",
        "plt.show()"
      ],
      "execution_count": 22,
      "outputs": [
        {
          "output_type": "display_data",
          "data": {
            "image/png": "[encoded data removed]",
            "text/plain": [
              "<Figure size 432x288 with 1 Axes>"
            ]
          },
          "metadata": {
            "tags": [],
            "needs_background": "light"
          }
        },
        {
          "output_type": "display_data",
          "data": {
            "image/png": "[encoded data removed]",
            "text/plain": [
              "<Figure size 432x288 with 1 Axes>"
            ]
          },
          "metadata": {
            "tags": [],
            "needs_background": "light"
          }
        }
      ]
    },
    {
      "cell_type": "code",
      "metadata": {
        "colab": {
          "base_uri": "https://localhost:8080/",
          "height": 545
        },
        "id": "INIHtbSTzvhw",
        "outputId": "e15fea39-b8ce-4444-e650-18d118d78596"
      },
      "source": [
        "plot_acf(inflation, alpha = 0.05, lags = 100)\n",
        "plt.show()\n",
        "\n",
        "plot_pacf(inflation, alpha = 0.05, lags = 100)\n",
        "plt.show()"
      ],
      "execution_count": 23,
      "outputs": [
        {
          "output_type": "display_data",
          "data": {
            "image/png": "[encoded data removed]",
            "text/plain": [
              "<Figure size 432x288 with 1 Axes>"
            ]
          },
          "metadata": {
            "tags": [],
            "needs_background": "light"
          }
        },
        {
          "output_type": "display_data",
          "data": {
            "image/png": "[encoded data removed]",
            "text/plain": [
              "<Figure size 432x288 with 1 Axes>"
            ]
          },
          "metadata": {
            "tags": [],
            "needs_background": "light"
          }
        }
      ]
    },
    {
      "cell_type": "markdown",
      "metadata": {
        "id": "hl1piP2Qyz64"
      },
      "source": [
        "**Les graphiques:** \n",
        "\n",
        "Dans les deux cas, l'axe **y** correspond à la **correlation entre la série et un lag donné**, et l'axe x correspond au lag étudié. \n",
        "\n",
        "Le **cône bleu** présent dans les des graphiques correspond à l'**intervalle de confiance** à 95% par défaut. Si le point est en dehors du cône (dans la zone blance), nous pouvons en conclure qu'à 5% de risque, le lag est significativement impactant sur la série, et donc corrélé au signal. Sinon, le lag est dans la zone bleu, et nous pouvons interpréter cela, comme une non significativité de ce lag particulier, et donc l'ignorer dans le cadre de la modélisation. \n",
        "\n",
        "**Liens utiles:** \n",
        "- https://medium.com/@krzysztofdrelczuk/acf-autocorrelation-function-simple-explanation-with-python-example-492484c32711\n",
        "- https://machinelearningmastery.com/gentle-introduction-autocorrelation-partial-autocorrelation/"
      ]
    },
    {
      "cell_type": "markdown",
      "metadata": {
        "id": "pA2A2hl_0cRp"
      },
      "source": [
        "**Interprétations des graphiques**:"
      ]
    },
    {
      "cell_type": "markdown",
      "metadata": {
        "id": "c8YS2hvf1BAd"
      },
      "source": [
        "Sur le premier graphique de l'ACF, on peut dire que les 8 premiers lags sont significatifs.\n",
        "\n",
        "Sur le graphique du PACF nous pouvons remarquer que les 3 premiers lags sont significatifs. On peut également remarquer qu'il existe des lags impactans à environs 20 lags d'écarts et 100 lags d'écarts, ce qui pourrait dénoter une certaine cyclicité."
      ]
    },
    {
      "cell_type": "markdown",
      "metadata": {
        "id": "wUDeafwmT5EW"
      },
      "source": [
        "## Stationnarité et Ergodiscité\n",
        "- **La stationnarité** d’une série temporelle en est une propriété fondamentale. Elle indique si les caractéristiques de celui-ci changent avec le temps ou non. On rappel une serie temporelle ${X_t}_t$ est stationnarité au sens large si $E(X_t)=\\mu$ (constante) $\\forall t$ et $E(X_t^2) < \\infty$ et ne dépend pas du temps t et $cov(X_t,X_{t-k}) = \\sigma(k)$ ne dépend egualement pas de t. Il est crucial qu'une serie temporelle soit stationnaire car c'est la  garantit qu'elle présente les mêmes propriétés statistique au cour du temps.\n",
        "  \n",
        "\n",
        "- **Ergodicité** en revanche, il suffit essentiellement que $X_t$ et $X_s$ soient asymptotiquement indépendants quand $|t-s|$ tend vers l'infini. En d'autres termes une serie temporelle ${X_t}$ est ergodique si  $cov(X_t,X_{t-k})$ tend verx 0 quand $k$ tend vers $+\\infty$. Il est important qu'une serie temporelle soit ergodique car elle  permet notamment de pouvoir utiliser la loi des grands nombres et le théorème de limite centrale. Avec sufisament d’observations on peut atteindre les propriétés théoriques du processus. L'ergodicité permet d'assurer que l'estimateur de la série temporelle est non biaisé, et que donc les paramètres le sont aussi.\n",
        "\n",
        "\n",
        "  \n",
        "- **Spurious regression** (régression fallacieuse) désigne une situation dans laquelle l'utilisation de séries temporelles non stationnaires dans une régression linéaire fait apparaître des résultats erronés, trop optimistes, qui font croire à une relation entre les variables alors que ce n'est pas le cas. Souvent les regressions fallacieuses apparaissent lorsqu'il y a une regression d'une marche aléatoire vers une autre marche alétoire indépendante. On remarquera alors que l'estimation du coefficient ne convergera pas vers zéro (la vraie valeur). Au lieu de cela, dans la limite, l'estimation du coefficient\n",
        "suivre une distribution non dégénérée. La valeur de t sera le plus souvent significatif, et le coefficient de détermination  (R²) élevé. On peut également les retrouver quand les séries sont non stationnaires, et contiennent des tendances stochastiques, ou des tendances similaires.\n",
        "Il existe cependant des moyens de relever des régressions fallacieuses. Comme par exemple la présence d'une racine unitaire au niveau des résidus. Pour cette raison, il est primordial de valider la stationnarité des résidus. \n",
        "\n",
        "**Sources intéressantes:** \n",
        "- http://www.fsb.miamioh.edu/lij14/672_2014_s8.pdf\n",
        "- https://en.wikipedia.org/wiki/Spurious_relationship#:~:text=An%20example%20of%20a%20spurious,between%20independent%20non%2Dstationary%20variables\n",
        "- https://kidbrooke.com/risk-dictionary/stationarity-and-ergodicity/"
      ]
    },
    {
      "cell_type": "markdown",
      "metadata": {
        "id": "c_DJo_22X6kX"
      },
      "source": [
        "## Test de stationnarité"
      ]
    },
    {
      "cell_type": "markdown",
      "metadata": {
        "id": "8bdlWrhmYE0z"
      },
      "source": [
        "### Explications des tests de stationnarité\n",
        "Comme expliqué précédemment, la stationnarité est une propriété imprtante pour l'étude d'une série temporelle. \n",
        "Il existe plusieurs manière de vérifier la stationnarité d'une série: \n",
        "- Visualisation de la série temporelle\n",
        "- Séparer la série en 2, et caculer les statistiques de moyenne de variance et d'autocorrélation, et comparer les deux résultats statistiques obtenus. S'ils sont significativement différents, il sera suggéré que la série est non stationnaire. \n",
        "- Utiliser les méthodes quantitatiques. En utilisant par exemple les tests de racines unitaires Parmi ces tests, nous pouvons noter:\n",
        "  - Augmented Dickey Fuller test (ADF Test)\n",
        "  - Kwiatkowski-Phillips-Schmidt-Shin – KPSS test (trend stationary)\n",
        "  - Philips Perron test (PP Test)\n",
        "\n",
        "\n",
        "Augmented Dickey Fuller es le plus communément utilisé. Dans le cadre de ce test, l'hypothèse nulle H0 consiste a affirmer que la série temporelle possède une racine unitaire, et est non stationnarire. Si la p-value du tst ADF est inférieure au risque, l'hypotèse nulle est alors acceptée.\n",
        "\n",
        "**Plus d'informations sur:**  https://www.kaggle.com/prashant111/complete-guide-on-time-series-analysis-in-python"
      ]
    },
    {
      "cell_type": "markdown",
      "metadata": {
        "id": "Pric4lCwas9_"
      },
      "source": [
        "### Réalisation du test Augmented Dickey Fuller test (ADF Test)"
      ]
    },
    {
      "cell_type": "code",
      "metadata": {
        "id": "CcYPaHLczk8N"
      },
      "source": [
        "inflation = inflation.dropna()"
      ],
      "execution_count": 24,
      "outputs": []
    },
    {
      "cell_type": "code",
      "metadata": {
        "colab": {
          "base_uri": "https://localhost:8080/"
        },
        "id": "4Xr5hazkvpqs",
        "outputId": "e9e003f7-be88-4d26-e0a8-fec76deddbcd"
      },
      "source": [
        "adf_inf_aic = adfuller(inflation, \n",
        "                        autolag='AIC',  \n",
        "                       regression = 'c') \n",
        "\n",
        "#### From https://www.machinelearningplus.com/time-series/time-series-analysis-python/\n",
        "print(f'ADF Statistic: {adf_inf_aic[0]}')\n",
        "print(f'p-value: {adf_inf_aic[1]}')\n",
        "for key, value in adf_inf_aic[4].items():\n",
        "    print('Critial Values:')\n",
        "    print(f'   {key}, {value}')\n",
        "####\n",
        "\n",
        "print(\"Nombre de lags minimisant l'AIC: \", adf_inf_aic[2])"
      ],
      "execution_count": 25,
      "outputs": [
        {
          "output_type": "stream",
          "text": [
            "ADF Statistic: -2.9190558143372347\n",
            "p-value: 0.04317651687154687\n",
            "Critial Values:\n",
            "   1%, -3.4621857592784546\n",
            "Critial Values:\n",
            "   5%, -2.875537986778846\n",
            "Critial Values:\n",
            "   10%, -2.574231080806213\n",
            "Nombre de lags minimisant l'AIC:  2\n"
          ],
          "name": "stdout"
        }
      ]
    },
    {
      "cell_type": "markdown",
      "metadata": {
        "id": "sF3I7G6NbmNX"
      },
      "source": [
        "On a un P-value ≈ 0.04 < 0.05,  H0  est rejeté. D'après ce test, la série temporelle qui représente l'inflation est semble stationnaire. Or la visualisation de la série semble suggérer une conclusion opposée. Je pense que cela est dû au type de régression choisie par défaut au niveau du test, qui considère seulement la constante. A mon sens il faudrait inclure la tendance également au test. Ceci est réalisé ci-dessous: \n"
      ]
    },
    {
      "cell_type": "code",
      "metadata": {
        "colab": {
          "base_uri": "https://localhost:8080/"
        },
        "id": "ak2yknJHa0JM",
        "outputId": "4a32b7bb-08ce-4e0c-f5af-4cf30d9428d0"
      },
      "source": [
        "adf_inf_aic = adfuller(inflation, \n",
        "                        autolag='AIC',  \n",
        "                       regression = 'ct') \n",
        "\n",
        "#### From https://www.machinelearningplus.com/time-series/time-series-analysis-python/\n",
        "print(f'ADF Statistic: {adf_inf_aic[0]}')\n",
        "print(f'p-value: {adf_inf_aic[1]}')\n",
        "for key, value in adf_inf_aic[4].items():\n",
        "    print('Critial Values:')\n",
        "    print(f'   {key}, {value}')\n",
        "####\n",
        "\n",
        "print(\"Nombre de lags minimisant l'AIC: \", adf_inf_aic[2])"
      ],
      "execution_count": 26,
      "outputs": [
        {
          "output_type": "stream",
          "text": [
            "ADF Statistic: -3.1334995610190464\n",
            "p-value: 0.09848521134086352\n",
            "Critial Values:\n",
            "   1%, -4.002966509244673\n",
            "Critial Values:\n",
            "   5%, -3.43181159172131\n",
            "Critial Values:\n",
            "   10%, -3.139573978276485\n",
            "Nombre de lags minimisant l'AIC:  2\n"
          ],
          "name": "stdout"
        }
      ]
    },
    {
      "cell_type": "markdown",
      "metadata": {
        "id": "XvQKHGFJ0oFo"
      },
      "source": [
        "On a un P-value ≈ 0.09 > 0.05,  H0  est acceptée. D'après ce test, la série temporelle qui représente l'inflation est donc non stationnaire. "
      ]
    },
    {
      "cell_type": "markdown",
      "metadata": {
        "id": "x43ypSaKcZYV"
      },
      "source": [
        "## Modélisation AR(p) de l'inflation"
      ]
    },
    {
      "cell_type": "markdown",
      "metadata": {
        "id": "qFHQToVH0vtU"
      },
      "source": [
        "Pour ce test nous allons d'abord tester plusieurs valeurs pour déterminer empiriquement le meilleur nombre de lags. Nous utiliserons également  le modèle auto arima.\n",
        "Nous confiremerons ensuite les résultats en utilisant les graphiques d'ACF et PACF. Nous déterminerons ensuite les coefficients du modèle."
      ]
    },
    {
      "cell_type": "markdown",
      "metadata": {
        "id": "3Zlyugn24SnO"
      },
      "source": [
        "### En testant plusieurs paramètres "
      ]
    },
    {
      "cell_type": "code",
      "metadata": {
        "colab": {
          "base_uri": "https://localhost:8080/",
          "height": 297
        },
        "id": "9Y_7EJcU2nu6",
        "outputId": "e6c94d30-55ae-45ce-9ff4-45b743e37354"
      },
      "source": [
        "aic = []\n",
        "for p in range(1,11):\n",
        "    model_AR = smt.AR(inflation).fit(maxlag = p)\n",
        "    aic.append(model_AR.aic)\n",
        "plt.plot(range(1,11), aic ) \n",
        "plt.xlabel(\"Number of lags\")\n",
        "plt.ylabel(\"Value of AIC\")\n",
        "plt.show()   \n",
        "\n",
        "best_param_aic = aic.index(min(aic)) +1\n",
        "print(\" Le meilleur nombre de lags pour minimiser l'AIC est:\",\n",
        "      best_param_aic)"
      ],
      "execution_count": 27,
      "outputs": [
        {
          "output_type": "display_data",
          "data": {
            "image/png": "[encoded data removed]",
            "text/plain": [
              "<Figure size 432x288 with 1 Axes>"
            ]
          },
          "metadata": {
            "tags": [],
            "needs_background": "light"
          }
        },
        {
          "output_type": "stream",
          "text": [
            " Le meilleur nombre de lags pour minimiser l'AIC est: 3\n"
          ],
          "name": "stdout"
        }
      ]
    },
    {
      "cell_type": "markdown",
      "metadata": {
        "id": "yh4srj7k4wjF"
      },
      "source": [
        "### En utilisant auto arima"
      ]
    },
    {
      "cell_type": "code",
      "metadata": {
        "id": "nT-pKcAcbTFo"
      },
      "source": [
        "def arimamodel(timeseriesarray):\n",
        "    autoarima_model = pmd.auto_arima(timeseriesarray, \n",
        "                              start_p=1, \n",
        "                              start_q=1,\n",
        "                              test=\"adf\",\n",
        "                              trace=True)\n",
        "    return autoarima_model"
      ],
      "execution_count": 28,
      "outputs": []
    },
    {
      "cell_type": "code",
      "metadata": {
        "colab": {
          "base_uri": "https://localhost:8080/",
          "height": 985
        },
        "id": "HBuCkw8ecsOL",
        "outputId": "af0c8ddd-7c00-4262-ecde-4a5f3331458d"
      },
      "source": [
        "arima_model = arimamodel(inflation)\n",
        "arima_model.summary()"
      ],
      "execution_count": 29,
      "outputs": [
        {
          "output_type": "stream",
          "text": [
            "Performing stepwise search to minimize aic\n",
            " ARIMA(1,1,1)(0,0,0)[0] intercept   : AIC=884.783, Time=0.20 sec\n",
            " ARIMA(0,1,0)(0,0,0)[0] intercept   : AIC=918.234, Time=0.02 sec\n",
            " ARIMA(1,1,0)(0,0,0)[0] intercept   : AIC=904.290, Time=0.06 sec\n",
            " ARIMA(0,1,1)(0,0,0)[0] intercept   : AIC=887.024, Time=0.06 sec\n",
            " ARIMA(0,1,0)(0,0,0)[0]             : AIC=916.234, Time=0.01 sec\n",
            " ARIMA(2,1,1)(0,0,0)[0] intercept   : AIC=880.209, Time=0.14 sec\n",
            " ARIMA(2,1,0)(0,0,0)[0] intercept   : AIC=878.524, Time=0.06 sec\n",
            " ARIMA(3,1,0)(0,0,0)[0] intercept   : AIC=880.462, Time=0.11 sec\n",
            " ARIMA(3,1,1)(0,0,0)[0] intercept   : AIC=876.817, Time=0.54 sec\n",
            " ARIMA(4,1,1)(0,0,0)[0] intercept   : AIC=878.941, Time=0.18 sec\n",
            " ARIMA(3,1,2)(0,0,0)[0] intercept   : AIC=876.298, Time=0.33 sec\n",
            " ARIMA(2,1,2)(0,0,0)[0] intercept   : AIC=879.052, Time=0.14 sec\n",
            " ARIMA(4,1,2)(0,0,0)[0] intercept   : AIC=879.623, Time=0.38 sec\n",
            " ARIMA(3,1,3)(0,0,0)[0] intercept   : AIC=878.278, Time=0.59 sec\n",
            " ARIMA(2,1,3)(0,0,0)[0] intercept   : AIC=878.580, Time=0.36 sec\n",
            " ARIMA(4,1,3)(0,0,0)[0] intercept   : AIC=881.441, Time=0.42 sec\n",
            " ARIMA(3,1,2)(0,0,0)[0]             : AIC=874.298, Time=0.17 sec\n",
            " ARIMA(2,1,2)(0,0,0)[0]             : AIC=877.052, Time=0.09 sec\n",
            " ARIMA(3,1,1)(0,0,0)[0]             : AIC=874.821, Time=0.20 sec\n",
            " ARIMA(4,1,2)(0,0,0)[0]             : AIC=877.623, Time=0.34 sec\n",
            " ARIMA(3,1,3)(0,0,0)[0]             : AIC=876.278, Time=0.30 sec\n",
            " ARIMA(2,1,1)(0,0,0)[0]             : AIC=878.209, Time=0.07 sec\n",
            " ARIMA(2,1,3)(0,0,0)[0]             : AIC=876.580, Time=0.20 sec\n",
            " ARIMA(4,1,1)(0,0,0)[0]             : AIC=876.941, Time=0.10 sec\n",
            " ARIMA(4,1,3)(0,0,0)[0]             : AIC=879.441, Time=0.26 sec\n",
            "\n",
            "Best model:  ARIMA(3,1,2)(0,0,0)[0]          \n",
            "Total fit time: 5.350 seconds\n"
          ],
          "name": "stdout"
        },
        {
          "output_type": "execute_result",
          "data": {
            "text/html": [
              "<table class=\"simpletable\">\n",
              "<caption>SARIMAX Results</caption>\n",
              "<tr>\n",
              "  <th>Dep. Variable:</th>           <td>y</td>        <th>  No. Observations:  </th>    <td>211</td>  \n",
              "</tr>\n",
              "<tr>\n",
              "  <th>Model:</th>           <td>SARIMAX(3, 1, 2)</td> <th>  Log Likelihood     </th> <td>-431.149</td>\n",
              "</tr>\n",
              "<tr>\n",
              "  <th>Date:</th>            <td>Sun, 16 May 2021</td> <th>  AIC                </th>  <td>874.298</td>\n",
              "</tr>\n",
              "<tr>\n",
              "  <th>Time:</th>                <td>23:10:21</td>     <th>  BIC                </th>  <td>894.381</td>\n",
              "</tr>\n",
              "<tr>\n",
              "  <th>Sample:</th>                  <td>0</td>        <th>  HQIC               </th>  <td>882.417</td>\n",
              "</tr>\n",
              "<tr>\n",
              "  <th></th>                      <td> - 211</td>      <th>                     </th>     <td> </td>   \n",
              "</tr>\n",
              "<tr>\n",
              "  <th>Covariance Type:</th>        <td>opg</td>       <th>                     </th>     <td> </td>   \n",
              "</tr>\n",
              "</table>\n",
              "<table class=\"simpletable\">\n",
              "<tr>\n",
              "     <td></td>       <th>coef</th>     <th>std err</th>      <th>z</th>      <th>P>|z|</th>  <th>[0.025</th>    <th>0.975]</th>  \n",
              "</tr>\n",
              "<tr>\n",
              "  <th>ar.L1</th>  <td>    0.1403</td> <td>    0.244</td> <td>    0.574</td> <td> 0.566</td> <td>   -0.339</td> <td>    0.619</td>\n",
              "</tr>\n",
              "<tr>\n",
              "  <th>ar.L2</th>  <td>    0.1651</td> <td>    0.180</td> <td>    0.916</td> <td> 0.360</td> <td>   -0.188</td> <td>    0.518</td>\n",
              "</tr>\n",
              "<tr>\n",
              "  <th>ar.L3</th>  <td>    0.2942</td> <td>    0.054</td> <td>    5.451</td> <td> 0.000</td> <td>    0.188</td> <td>    0.400</td>\n",
              "</tr>\n",
              "<tr>\n",
              "  <th>ma.L1</th>  <td>   -0.5196</td> <td>    0.267</td> <td>   -1.942</td> <td> 0.052</td> <td>   -1.044</td> <td>    0.005</td>\n",
              "</tr>\n",
              "<tr>\n",
              "  <th>ma.L2</th>  <td>   -0.3866</td> <td>    0.240</td> <td>   -1.610</td> <td> 0.107</td> <td>   -0.857</td> <td>    0.084</td>\n",
              "</tr>\n",
              "<tr>\n",
              "  <th>sigma2</th> <td>    3.5431</td> <td>    0.143</td> <td>   24.821</td> <td> 0.000</td> <td>    3.263</td> <td>    3.823</td>\n",
              "</tr>\n",
              "</table>\n",
              "<table class=\"simpletable\">\n",
              "<tr>\n",
              "  <th>Ljung-Box (L1) (Q):</th>     <td>0.00</td> <th>  Jarque-Bera (JB):  </th> <td>2055.37</td>\n",
              "</tr>\n",
              "<tr>\n",
              "  <th>Prob(Q):</th>                <td>0.96</td> <th>  Prob(JB):          </th>  <td>0.00</td>  \n",
              "</tr>\n",
              "<tr>\n",
              "  <th>Heteroskedasticity (H):</th> <td>2.77</td> <th>  Skew:              </th>  <td>-2.22</td> \n",
              "</tr>\n",
              "<tr>\n",
              "  <th>Prob(H) (two-sided):</th>    <td>0.00</td> <th>  Kurtosis:          </th>  <td>17.67</td> \n",
              "</tr>\n",
              "</table><br/><br/>Warnings:<br/>[1] Covariance matrix calculated using the outer product of gradients (complex-step)."
            ],
            "text/plain": [
              "<class 'statsmodels.iolib.summary.Summary'>\n",
              "\"\"\"\n",
              "                               SARIMAX Results                                \n",
              "==============================================================================\n",
              "Dep. Variable:                      y   No. Observations:                  211\n",
              "Model:               SARIMAX(3, 1, 2)   Log Likelihood                -431.149\n",
              "Date:                Sun, 16 May 2021   AIC                            874.298\n",
              "Time:                        23:10:21   BIC                            894.381\n",
              "Sample:                             0   HQIC                           882.417\n",
              "                                - 211                                         \n",
              "Covariance Type:                  opg                                         \n",
              "==============================================================================\n",
              "                 coef    std err          z      P>|z|      [0.025      0.975]\n",
              "------------------------------------------------------------------------------\n",
              "ar.L1          0.1403      0.244      0.574      0.566      -0.339       0.619\n",
              "ar.L2          0.1651      0.180      0.916      0.360      -0.188       0.518\n",
              "ar.L3          0.2942      0.054      5.451      0.000       0.188       0.400\n",
              "ma.L1         -0.5196      0.267     -1.942      0.052      -1.044       0.005\n",
              "ma.L2         -0.3866      0.240     -1.610      0.107      -0.857       0.084\n",
              "sigma2         3.5431      0.143     24.821      0.000       3.263       3.823\n",
              "===================================================================================\n",
              "Ljung-Box (L1) (Q):                   0.00   Jarque-Bera (JB):              2055.37\n",
              "Prob(Q):                              0.96   Prob(JB):                         0.00\n",
              "Heteroskedasticity (H):               2.77   Skew:                            -2.22\n",
              "Prob(H) (two-sided):                  0.00   Kurtosis:                        17.67\n",
              "===================================================================================\n",
              "\n",
              "Warnings:\n",
              "[1] Covariance matrix calculated using the outer product of gradients (complex-step).\n",
              "\"\"\""
            ]
          },
          "metadata": {
            "tags": []
          },
          "execution_count": 29
        }
      ]
    },
    {
      "cell_type": "markdown",
      "metadata": {
        "id": "z0UY7sk_dD3j"
      },
      "source": [
        "D'après le modeèle ARMA, le paramètre p minimisant au mieux l'AIC est p = 3."
      ]
    },
    {
      "cell_type": "markdown",
      "metadata": {
        "id": "j8_1fLj244o7"
      },
      "source": [
        "### Confrontation avec les résultats d'ACF et PACF"
      ]
    },
    {
      "cell_type": "code",
      "metadata": {
        "colab": {
          "base_uri": "https://localhost:8080/",
          "height": 545
        },
        "id": "sK1zhlrQcwP-",
        "outputId": "9fc2c019-0b8d-4bcc-c22f-ea7701ccd6bd"
      },
      "source": [
        "plot_acf(inflation, alpha = 0.05)\n",
        "plt.show()\n",
        "\n",
        "plot_pacf(inflation, alpha = 0.05)\n",
        "plt.show()"
      ],
      "execution_count": 30,
      "outputs": [
        {
          "output_type": "display_data",
          "data": {
            "image/png": "[encoded data removed]",
            "text/plain": [
              "<Figure size 432x288 with 1 Axes>"
            ]
          },
          "metadata": {
            "tags": [],
            "needs_background": "light"
          }
        },
        {
          "output_type": "display_data",
          "data": {
            "image/png": "[encoded data removed]",
            "text/plain": [
              "<Figure size 432x288 with 1 Axes>"
            ]
          },
          "metadata": {
            "tags": [],
            "needs_background": "light"
          }
        }
      ]
    },
    {
      "cell_type": "markdown",
      "metadata": {
        "id": "cfFbvr5KdMzg"
      },
      "source": [
        "Les graphes ACF et PACF confirment les résultats. En effet, on remarque une chute brutale des coefficients après le 3ème lags, et une non significativité de ces derniers, au vu de leurs présence  en dehors de la zone du cône bleu dans le PACF."
      ]
    },
    {
      "cell_type": "markdown",
      "metadata": {
        "id": "UEnCazKL49qW"
      },
      "source": [
        "### Détermination des paramètres "
      ]
    },
    {
      "cell_type": "code",
      "metadata": {
        "colab": {
          "base_uri": "https://localhost:8080/"
        },
        "id": "9iKygAmz2Ts3",
        "outputId": "cdbd2202-1c11-4eff-b041-a9f89bedf10a"
      },
      "source": [
        "ar_inf = smt.AR(inflation, ).fit(maxlag = best_param_aic)\n",
        "print(\"Les paramètres du modèle sont: \")\n",
        "print(ar_inf.params)\n",
        "print(ar_inf.summary())"
      ],
      "execution_count": 31,
      "outputs": [
        {
          "output_type": "stream",
          "text": [
            "Les paramètres du modèle sont: \n",
            "const     0.546243\n",
            "L1.CPI    0.582774\n",
            "L2.CPI   -0.018421\n",
            "L3.CPI    0.297893\n",
            "dtype: float64\n",
            "                               AR Model Results                               \n",
            "==============================================================================\n",
            "Dep. Variable:                      C  -                  P                  I\n",
            "Model:                          AR(3)   Log Likelihood                -426.870\n",
            "Method:                          cmle   S.D. of innovations              1.884\n",
            "Date:                Sun, 16 May 2021   AIC                              1.315\n",
            "Time:                        23:10:22   BIC                              1.395\n",
            "Sample:                             0   HQIC                             1.347\n",
            "                                                                              \n",
            "==============================================================================\n",
            "                 coef    std err          z      P>|z|      [0.025      0.975]\n",
            "------------------------------------------------------------------------------\n",
            "const          0.5462      0.229      2.383      0.017       0.097       0.995\n",
            "L1.CPI         0.5828      0.067      8.730      0.000       0.452       0.714\n",
            "L2.CPI        -0.0184      0.078     -0.236      0.813      -0.171       0.134\n",
            "L3.CPI         0.2979      0.067      4.471      0.000       0.167       0.428\n",
            "                                    Roots                                    \n",
            "=============================================================================\n",
            "                  Real          Imaginary           Modulus         Frequency\n",
            "-----------------------------------------------------------------------------\n",
            "AR.1            1.0906           -0.0000j            1.0906           -0.0000\n",
            "AR.2           -0.5144           -1.6774j            1.7545           -0.2974\n",
            "AR.3           -0.5144           +1.6774j            1.7545            0.2974\n",
            "-----------------------------------------------------------------------------\n"
          ],
          "name": "stdout"
        }
      ]
    },
    {
      "cell_type": "markdown",
      "metadata": {
        "id": "bAM3dYP05TCr"
      },
      "source": [
        "On a donc :\n",
        "$inf_t = 0.546243 + 0.582774* inf_{t-1} -0.018421* inf_{t-2} + 0.297893*inf_{t-3} + \\epsilon_t$"
      ]
    },
    {
      "cell_type": "markdown",
      "metadata": {
        "id": "QKs8y1L2dobv"
      },
      "source": [
        "# Etude du modèle de Philips"
      ]
    },
    {
      "cell_type": "markdown",
      "metadata": {
        "id": "moOZBjX-f-dy"
      },
      "source": [
        "## Visulalisation du rapport entre le chomage et l'inflation"
      ]
    },
    {
      "cell_type": "code",
      "metadata": {
        "id": "3qanbPuAd6HH"
      },
      "source": [
        "unemployment = df['Unemp']"
      ],
      "execution_count": 32,
      "outputs": []
    },
    {
      "cell_type": "code",
      "metadata": {
        "colab": {
          "base_uri": "https://localhost:8080/",
          "height": 334
        },
        "id": "Va9lmL-Xd94Q",
        "outputId": "3d7c6d0a-85bb-4199-bb6c-86fb43415286"
      },
      "source": [
        "X = np.array(inflation).reshape(-1, 1)\n",
        "y =  unemployment[1:]\n",
        "\n",
        "# Régression entre inflation et unemployment \n",
        "model = LinearRegression(fit_intercept=True)\n",
        "model.fit(X, y)\n",
        "coef = model.coef_\n",
        "intercept = model.intercept_\n",
        "\n",
        "# Visualisation\n",
        "plt.plot(X,  coef*X + intercept, color='r', label = \"Courbe de tendance linéaire entre chomâge et inflation\")\n",
        "plt.scatter(inflation, unemployment[1:], color = 'grey')\n",
        "plt.xlabel(\"Inflation\")\n",
        "plt.ylabel(\"Taux de chômage\")\n",
        "plt.legend()\n",
        "plt.show()\n",
        "\n",
        "print(\"Les paramètes du modèle sont: \")\n",
        "print(\"Coefficient directeur : \", coef)\n",
        "print(\"Intercept : \",intercept)"
      ],
      "execution_count": 33,
      "outputs": [
        {
          "output_type": "display_data",
          "data": {
            "image/png": "[encoded data removed]",
            "text/plain": [
              "<Figure size 432x288 with 1 Axes>"
            ]
          },
          "metadata": {
            "tags": [],
            "needs_background": "light"
          }
        },
        {
          "output_type": "stream",
          "text": [
            "Les paramètes du modèle sont: \n",
            "Coefficient directeur :  [0.003977]\n",
            "Intercept :  6.070818917241152\n"
          ],
          "name": "stdout"
        }
      ]
    },
    {
      "cell_type": "markdown",
      "metadata": {
        "id": "2uIvg5FFgIco"
      },
      "source": [
        "## Etude du modèle linéaire "
      ]
    },
    {
      "cell_type": "code",
      "metadata": {
        "colab": {
          "base_uri": "https://localhost:8080/"
        },
        "id": "8o3nLQxQdux8",
        "outputId": "79e1913c-636e-4320-f65b-ddebdf38bb6d"
      },
      "source": [
        "# Construction des features matrix, et labels \n",
        "X = inflation\n",
        "n  = len(X)\n",
        "const = np.ones(n)\n",
        "X = np.column_stack((const, X))\n",
        "y =  unemployment[1:]\n",
        "\n",
        "# Application de l'estimateur OLS \n",
        "model = sm.OLS(y,X)\n",
        "results = model.fit()\n",
        "\n",
        "# Visualisation des résultats\n",
        "print(results.summary())"
      ],
      "execution_count": 34,
      "outputs": [
        {
          "output_type": "stream",
          "text": [
            "                            OLS Regression Results                            \n",
            "==============================================================================\n",
            "Dep. Variable:                  Unemp   R-squared:                       0.000\n",
            "Model:                            OLS   Adj. R-squared:                 -0.005\n",
            "Method:                 Least Squares   F-statistic:                   0.01214\n",
            "Date:                Sun, 16 May 2021   Prob (F-statistic):              0.912\n",
            "Time:                        23:10:22   Log-Likelihood:                -400.28\n",
            "No. Observations:                 211   AIC:                             804.6\n",
            "Df Residuals:                     209   BIC:                             811.3\n",
            "Df Model:                           1                                         \n",
            "Covariance Type:            nonrobust                                         \n",
            "==============================================================================\n",
            "                 coef    std err          t      P>|t|      [0.025      0.975]\n",
            "------------------------------------------------------------------------------\n",
            "const          6.0708      0.181     33.576      0.000       5.714       6.427\n",
            "x1             0.0040      0.036      0.110      0.912      -0.067       0.075\n",
            "==============================================================================\n",
            "Omnibus:                       13.872   Durbin-Watson:                   0.044\n",
            "Prob(Omnibus):                  0.001   Jarque-Bera (JB):               15.356\n",
            "Skew:                           0.660   Prob(JB):                     0.000463\n",
            "Kurtosis:                       2.937   Cond. No.                         8.32\n",
            "==============================================================================\n",
            "\n",
            "Notes:\n",
            "[1] Standard Errors assume that the covariance matrix of the errors is correctly specified.\n"
          ],
          "name": "stdout"
        }
      ]
    },
    {
      "cell_type": "markdown",
      "metadata": {
        "id": "kmzwAZHMgWfW"
      },
      "source": [
        "Nous avons une faible liaison linéaire positive entre Unemp et Inf, ceux qui est étrange compte tenu des travaux d'Alban William Phillips qui lui la supposaient négative. En effet nous avons un coefficient de régression de 0.004 ce qui implique que plus l'inflation augmente, plus le taux de chômage sera important. Cependant nous pouvons remarquer que le coefficient directeur est non significatif au vu de la p-value. Donc le modèle semble ne pas être pertinent, ce qui confirme les résultats obtenus au niveau de la visualisation de la relation (un nuage de point, sans réelle courbe décelable).\n"
      ]
    },
    {
      "cell_type": "markdown",
      "metadata": {
        "id": "fTgC-fmRgxlG"
      },
      "source": [
        "## Inspection des résidus"
      ]
    },
    {
      "cell_type": "code",
      "metadata": {
        "id": "vyRwH8cXf109"
      },
      "source": [
        "erreurs = results.resid"
      ],
      "execution_count": 35,
      "outputs": []
    },
    {
      "cell_type": "code",
      "metadata": {
        "colab": {
          "base_uri": "https://localhost:8080/",
          "height": 308
        },
        "id": "WoIXo3U6gyM0",
        "outputId": "d727b52e-535e-45c0-fe14-50d6afa73945"
      },
      "source": [
        "plt.plot(date[1:], erreurs, color = 'grey')\n",
        "plt.title(\"Modèle de Philips\")\n",
        "plt.suptitle(\"Visulation des erreurs du modèle linéaire\")\n",
        "plt.ylabel(\"Erreurs\")\n",
        "plt.xlabel('Date')\n",
        "plt.show()"
      ],
      "execution_count": 36,
      "outputs": [
        {
          "output_type": "display_data",
          "data": {
            "image/png": "[encoded data removed]",
            "text/plain": [
              "<Figure size 432x288 with 1 Axes>"
            ]
          },
          "metadata": {
            "tags": [],
            "needs_background": "light"
          }
        }
      ]
    },
    {
      "cell_type": "markdown",
      "metadata": {
        "id": "Wcc4optrhjPd"
      },
      "source": [
        "La courbe des résidus semble refléter une non stationnarité et  une autocorrélation. Nous pouvons le remarquer du fait que les valeurs positives resp(négatives) succèdent aux valeurs positives resp(négatives), avec une certaine cyclicité."
      ]
    },
    {
      "cell_type": "markdown",
      "metadata": {
        "id": "ve45Pngah7sd"
      },
      "source": [
        "**Application du Test de Durbin Watson d'autocorrélation des erreurs**\n",
        "\n",
        "\n"
      ]
    },
    {
      "cell_type": "markdown",
      "metadata": {
        "id": "EmDjjE7dijot"
      },
      "source": [
        "Le test de Durbin–Watson permet de détecter la présence d'autocorrélation de lag 1 dans les résidus d'une régression linéaire. Il correspond à un test d'autocorrélation des termes d'erreurs d'ordre 1. \n",
        "\n",
        "$$u_t = \\rho*u_{t-1} + \\epsilon_t$$\n",
        "avec \n",
        "$$\\epsilon_t  ->  N (0, \\sigma_{\\epsilon}²)$$\n",
        "\n",
        "Il s'agira de tester les hypothèses suivantes \n",
        "- $H_0 : \\rho = 0$\n",
        "- $H_1 : \\rho \\ne 0$\n",
        "\n",
        "\n",
        "La statistique de Durbin Watson (DW) est définie telle que:\n",
        "\n",
        "$$DW =  \\frac{\\sum_{t=2}^{n} (û_t - û_{t-1})²}{\\sum_{t=1}^{n} û_t²}$$\n",
        "\n",
        "La statistique de Durbin-Watson  sera toujours comprise entre 0 et 4. \n",
        "Une valeur de 2 montre qu'il n'y a pas d'autocorrélation dans l'échantillon. Une valeur entre 0 et 2 montre qu'il y a une autocorrelationon positive, et une valeur entre 2 et 4 montre qu'il y a une auto corrélation négative.\n",
        "\n",
        "Pour plus d'informations: \n",
        "- https://en.wikipedia.org/wiki/Durbin%E2%80%93Watson_statistic\n",
        "- https://www.investopedia.com/terms/d/durbin-watson-statistic.asp\n",
        "- https://www-perso.gate.cnrs.fr/fournier/Notes_de_cours/Econometrie/2_Autocorrelation.pdf"
      ]
    },
    {
      "cell_type": "code",
      "metadata": {
        "colab": {
          "base_uri": "https://localhost:8080/"
        },
        "id": "qaKBzrfMg0Ab",
        "outputId": "c453a910-b472-4bd7-e012-d5cbcd2f38b8"
      },
      "source": [
        "print(\"Valeur de la statistique de Drubin Watson :\",\n",
        "      durbin_watson(erreurs))"
      ],
      "execution_count": 37,
      "outputs": [
        {
          "output_type": "stream",
          "text": [
            "Valeur de la statistique de Drubin Watson : 0.044194128074711944\n"
          ],
          "name": "stdout"
        }
      ]
    },
    {
      "cell_type": "markdown",
      "metadata": {
        "id": "OJP2pYsfiUjA"
      },
      "source": [
        "Selon le test de durbin watson nous avons une forte autocorrelation positive des erreurs. (Les résultats sont également présent sur le modèle linéaire qui précède).\n"
      ]
    },
    {
      "cell_type": "markdown",
      "metadata": {
        "id": "ISMZ2bUaM0Ju"
      },
      "source": [
        "## Correction de l'autocorrélation des erreurs"
      ]
    },
    {
      "cell_type": "markdown",
      "metadata": {
        "id": "3iB3HO4vWuou"
      },
      "source": [
        "On considère le modèle simple: \n",
        "- $y_{t-1} = \\beta_0 + \\beta_1 x_{t-1} + u_{t-1}$\n",
        "- $y_{t} = \\beta_0 + \\beta_1 x_{t} + u_t$\n",
        "\n",
        "On réalise une différence des deux équations :\n",
        "- $y_{t}  - \\rho y_{t-1} = \\beta_0(1 - \\rho) + \\beta_1 (x_t - \\rho x_{t-1}) + \\epsilon_t,  t>1$\n",
        "\n",
        "On réalise une régression sans autocorrélation:\n",
        "- $\\widetilde{y}_t = (1 - \\rho)\\beta_0 + \\beta_1\\widetilde{x}_t + \\epsilon_t, t>1  $\n",
        "\n",
        "où \n",
        "- $\\widetilde{x}_t = x_t - \\rho x_{t-1}$\n",
        "- $\\widetilde{y}_t = y_t - \\rho y_{t-1}$\n",
        "- $\\rho$ correspond au coefficient de corrélation entre les résidus  "
      ]
    },
    {
      "cell_type": "markdown",
      "metadata": {
        "id": "49lpRbW1GMaN"
      },
      "source": [
        "- **Détermination de rho**\n",
        "\n",
        "Coefficient du modèle OLS sans constante. "
      ]
    },
    {
      "cell_type": "code",
      "metadata": {
        "id": "9ZLJrlycGVgX"
      },
      "source": [
        "erreur_t = list(erreurs)\n",
        "erreur_t_1 = erreurs.shift(1)"
      ],
      "execution_count": 38,
      "outputs": []
    },
    {
      "cell_type": "code",
      "metadata": {
        "colab": {
          "base_uri": "https://localhost:8080/"
        },
        "id": "FnNZ_lX5GfVy",
        "outputId": "79f49278-5f89-4e32-aaa5-ce7a734ef186"
      },
      "source": [
        "model = sm.OLS(erreur_t, erreur_t_1, missing = 'drop')\n",
        "results = model.fit()\n",
        "print(results.summary())"
      ],
      "execution_count": 39,
      "outputs": [
        {
          "output_type": "stream",
          "text": [
            "                                 OLS Regression Results                                \n",
            "=======================================================================================\n",
            "Dep. Variable:                      y   R-squared (uncentered):                   0.956\n",
            "Model:                            OLS   Adj. R-squared (uncentered):              0.956\n",
            "Method:                 Least Squares   F-statistic:                              4557.\n",
            "Date:                Sun, 16 May 2021   Prob (F-statistic):                   6.88e-144\n",
            "Time:                        23:10:22   Log-Likelihood:                         -70.409\n",
            "No. Observations:                 210   AIC:                                      142.8\n",
            "Df Residuals:                     209   BIC:                                      146.2\n",
            "Df Model:                           1                                                  \n",
            "Covariance Type:            nonrobust                                                  \n",
            "==============================================================================\n",
            "                 coef    std err          t      P>|t|      [0.025      0.975]\n",
            "------------------------------------------------------------------------------\n",
            "x1             0.9799      0.015     67.507      0.000       0.951       1.009\n",
            "==============================================================================\n",
            "Omnibus:                       78.916   Durbin-Watson:                   0.666\n",
            "Prob(Omnibus):                  0.000   Jarque-Bera (JB):              244.932\n",
            "Skew:                           1.583   Prob(JB):                     6.51e-54\n",
            "Kurtosis:                       7.239   Cond. No.                         1.00\n",
            "==============================================================================\n",
            "\n",
            "Notes:\n",
            "[1] R² is computed without centering (uncentered) since the model does not contain a constant.\n",
            "[2] Standard Errors assume that the covariance matrix of the errors is correctly specified.\n"
          ],
          "name": "stdout"
        }
      ]
    },
    {
      "cell_type": "code",
      "metadata": {
        "colab": {
          "base_uri": "https://localhost:8080/"
        },
        "id": "tlYulYvs6_lU",
        "outputId": "d7ba7ab8-c216-40ab-b1e0-203e30dd2602"
      },
      "source": [
        "rho = results.params[0]\n",
        "print(\"La valeur du coefficient rho est de:\", np.round(rho, 5))"
      ],
      "execution_count": 40,
      "outputs": [
        {
          "output_type": "stream",
          "text": [
            "La valeur du coefficient rho est de: 0.97992\n"
          ],
          "name": "stdout"
        }
      ]
    },
    {
      "cell_type": "code",
      "metadata": {
        "id": "R5LZZU0VCtDj"
      },
      "source": [
        "y_t = y[1:]\n",
        "y_t_1  = y.shift(1).dropna()\n",
        "\n",
        "y_tild = y_t - rho*y_t_1\n",
        "#y_tild"
      ],
      "execution_count": 41,
      "outputs": []
    },
    {
      "cell_type": "code",
      "metadata": {
        "id": "0T6_qh0bF4JR"
      },
      "source": [
        "#y_tild"
      ],
      "execution_count": 42,
      "outputs": []
    },
    {
      "cell_type": "code",
      "metadata": {
        "id": "QwAocbtK93BX"
      },
      "source": [
        "#X = pd.Series(X[\"CPI\"])\n",
        "X_t = inflation[1:]\n",
        "X_t_1 = inflation.shift(1).dropna()\n",
        "\n",
        "#y[1:]\n",
        "#y#_t_1  = y.shift(1).dropna()\n",
        "X_tild = X_t - rho*X_t_1"
      ],
      "execution_count": 43,
      "outputs": []
    },
    {
      "cell_type": "code",
      "metadata": {
        "id": "MeKDS_P6DK4M"
      },
      "source": [
        "#X_t = pd.DataFrame(X)\n",
        "#X_t_1 = pd.DataFrame(X).shift(1)"
      ],
      "execution_count": 44,
      "outputs": []
    },
    {
      "cell_type": "code",
      "metadata": {
        "colab": {
          "base_uri": "https://localhost:8080/"
        },
        "id": "ywSfJy9-9-YA",
        "outputId": "8b26d7f0-be69-427d-d2d8-f1981ba5d2e4"
      },
      "source": [
        "# Application de l'estimateur OLS \n",
        "model = sm.OLS(y_tild, X_tild)\n",
        "results = model.fit()\n",
        "\n",
        "# Visualisation des résultats\n",
        "print(results.summary())"
      ],
      "execution_count": 45,
      "outputs": [
        {
          "output_type": "stream",
          "text": [
            "                                 OLS Regression Results                                \n",
            "=======================================================================================\n",
            "Dep. Variable:                  Unemp   R-squared (uncentered):                   0.017\n",
            "Model:                            OLS   Adj. R-squared (uncentered):              0.013\n",
            "Method:                 Least Squares   F-statistic:                              3.661\n",
            "Date:                Sun, 16 May 2021   Prob (F-statistic):                      0.0571\n",
            "Time:                        23:10:22   Log-Likelihood:                         -83.092\n",
            "No. Observations:                 210   AIC:                                      168.2\n",
            "Df Residuals:                     209   BIC:                                      171.5\n",
            "Df Model:                           1                                                  \n",
            "Covariance Type:            nonrobust                                                  \n",
            "==============================================================================\n",
            "                 coef    std err          t      P>|t|      [0.025      0.975]\n",
            "------------------------------------------------------------------------------\n",
            "CPI           -0.0225      0.012     -1.913      0.057      -0.046       0.001\n",
            "==============================================================================\n",
            "Omnibus:                       81.676   Durbin-Watson:                   0.613\n",
            "Prob(Omnibus):                  0.000   Jarque-Bera (JB):              279.168\n",
            "Skew:                           1.598   Prob(JB):                     2.40e-61\n",
            "Kurtosis:                       7.658   Cond. No.                         1.00\n",
            "==============================================================================\n",
            "\n",
            "Notes:\n",
            "[1] R² is computed without centering (uncentered) since the model does not contain a constant.\n",
            "[2] Standard Errors assume that the covariance matrix of the errors is correctly specified.\n"
          ],
          "name": "stdout"
        }
      ]
    },
    {
      "cell_type": "markdown",
      "metadata": {
        "id": "ylNmpGoBM7UN"
      },
      "source": [
        "## Test de la stabilité de la relation entre le chômage et l'inflation"
      ]
    },
    {
      "cell_type": "markdown",
      "metadata": {
        "id": "GyPEEUdYKOHJ"
      },
      "source": [
        "Afin d'étudier la stabilité de la relation entre chomâge et inflation nous utiliserons le test de Chow."
      ]
    },
    {
      "cell_type": "code",
      "metadata": {
        "id": "wsNj-q-LB2Jn"
      },
      "source": [
        "split = int(len(inflation )/2)"
      ],
      "execution_count": 46,
      "outputs": []
    },
    {
      "cell_type": "code",
      "metadata": {
        "colab": {
          "base_uri": "https://localhost:8080/"
        },
        "id": "mKqftHLxKDzq",
        "outputId": "1c5be91e-04f5-4095-8fff-644b48b3fdb2"
      },
      "source": [
        "print(\"La date du split est: \", date[split])"
      ],
      "execution_count": 47,
      "outputs": [
        {
          "output_type": "stream",
          "text": [
            "La date du split est:  1986-04-01 00:00:00\n"
          ],
          "name": "stdout"
        }
      ]
    },
    {
      "cell_type": "code",
      "metadata": {
        "id": "cMHqsXAECH9X"
      },
      "source": [
        "y = unemployment[1:]\n",
        "X = np.stack([inflation, np.ones(len(inflation))], \n",
        "             axis = 1)"
      ],
      "execution_count": 48,
      "outputs": []
    },
    {
      "cell_type": "code",
      "metadata": {
        "colab": {
          "base_uri": "https://localhost:8080/"
        },
        "id": "EmMA7CTNC8dO",
        "outputId": "5f734c68-4625-4103-86de-a80521415564"
      },
      "source": [
        "model = sm.OLS(y, X)\n",
        "result = model.fit()\n",
        "SSR = result.ssr \n",
        "SSR"
      ],
      "execution_count": 49,
      "outputs": [
        {
          "output_type": "execute_result",
          "data": {
            "text/plain": [
              "548.9801263315713"
            ]
          },
          "metadata": {
            "tags": []
          },
          "execution_count": 49
        }
      ]
    },
    {
      "cell_type": "code",
      "metadata": {
        "colab": {
          "base_uri": "https://localhost:8080/"
        },
        "id": "dHc18pezDQ5g",
        "outputId": "5e1f2981-bedc-46b1-92c6-451c78408a16"
      },
      "source": [
        "model_split_1 = sm.OLS(y[:split], X[:split])\n",
        "result_split_1 = model_split_1.fit()\n",
        "SSR_1 = result_split_1.ssr\n",
        "SSR_1"
      ],
      "execution_count": 50,
      "outputs": [
        {
          "output_type": "execute_result",
          "data": {
            "text/plain": [
              "300.5330748932291"
            ]
          },
          "metadata": {
            "tags": []
          },
          "execution_count": 50
        }
      ]
    },
    {
      "cell_type": "code",
      "metadata": {
        "colab": {
          "base_uri": "https://localhost:8080/"
        },
        "id": "_yyLUN3pDeJS",
        "outputId": "0521ab90-11a5-4eea-99de-6d69ab109d09"
      },
      "source": [
        "model_split_2 = sm.OLS(y[split:], X[split:])\n",
        "result_split_2 = model_split_2.fit()\n",
        "SSR_2 = result_split_2.ssr\n",
        "SSR_2"
      ],
      "execution_count": 51,
      "outputs": [
        {
          "output_type": "execute_result",
          "data": {
            "text/plain": [
              "238.33623275132666"
            ]
          },
          "metadata": {
            "tags": []
          },
          "execution_count": 51
        }
      ]
    },
    {
      "cell_type": "code",
      "metadata": {
        "id": "qJgZF668EQrY"
      },
      "source": [
        "n = len(X)\n",
        "k = 4"
      ],
      "execution_count": 52,
      "outputs": []
    },
    {
      "cell_type": "code",
      "metadata": {
        "colab": {
          "base_uri": "https://localhost:8080/"
        },
        "id": "AFItPlSHXvw8",
        "outputId": "7e2ea7a2-1917-4d8e-8585-b5901cc2ee3b"
      },
      "source": [
        "print(\"N\", n, \"K\", k)"
      ],
      "execution_count": 53,
      "outputs": [
        {
          "output_type": "stream",
          "text": [
            "N 211 K 4\n"
          ],
          "name": "stdout"
        }
      ]
    },
    {
      "cell_type": "code",
      "metadata": {
        "colab": {
          "base_uri": "https://localhost:8080/"
        },
        "id": "zEK64W5jDrhF",
        "outputId": "9cb407a6-7758-4d80-98dd-1730bc53b10e"
      },
      "source": [
        "# Test de Chow\n",
        "F = ((SSR- SSR_1 - SSR_2) / 2) / ((SSR_1 + SSR_2) / (n-k) )\n",
        "print('Statistique de Fisher:',F)\n",
        "print('P-value', f.sf(F, 2,n-k))"
      ],
      "execution_count": 54,
      "outputs": [
        {
          "output_type": "stream",
          "text": [
            "Statistique de Fisher: 1.9419731635492827\n",
            "P-value 0.14602473569409172\n"
          ],
          "name": "stdout"
        }
      ]
    },
    {
      "cell_type": "markdown",
      "metadata": {
        "id": "YFvBqO8QJjsa"
      },
      "source": [
        "La p-value est de 0.15, et la statistique de Fisher à 0.14. Donc l'hypothèse H0 ne peut pas être rejettée avec un risque à 5%.\n",
        "Il n'y a donc pas de changement structurel dans à la date de séparation."
      ]
    },
    {
      "cell_type": "markdown",
      "metadata": {
        "id": "jFJOxfuTBz8b"
      },
      "source": [
        "## Détection de point de rupture "
      ]
    },
    {
      "cell_type": "code",
      "metadata": {
        "id": "0OaMeLO3H-sM"
      },
      "source": [
        "# Modèle Général\n",
        "model = sm.OLS(y, X)\n",
        "result = model.fit()\n",
        "SSR = result.ssr \n",
        "\n",
        "Fisher = []\n",
        "P_value = []\n",
        "\n",
        "for split in range (25, len(y)-25):\n",
        "  # Analyse du premier split\n",
        "  model_split_1 = sm.OLS(y[:split], X[:split])\n",
        "  result_split_1 = model_split_1.fit()\n",
        "  SSR_1 = result_split_1.ssr\n",
        "  \n",
        "  # Analyse du deuxième split\n",
        "  model_split_2 = sm.OLS(y[split:], X[split:])\n",
        "  result_split_2 = model_split_2.fit()\n",
        "  SSR_2 = result_split_2.ssr\n",
        "\n",
        "  # Calcul de F_statistique\n",
        "  F = ((SSR- SSR_1 - SSR_2) / 2) / ((SSR_1 + SSR_2) / (n-k) )\n",
        "  p =  f.sf(F, 2,n-k)\n",
        "\n",
        "  # Ajout aux listes\n",
        "  Fisher.append(F)\n",
        "  P_value.append(p)"
      ],
      "execution_count": 55,
      "outputs": []
    },
    {
      "cell_type": "code",
      "metadata": {
        "id": "pjIT2EEHOUw1"
      },
      "source": [
        "#len(Fisher)"
      ],
      "execution_count": 56,
      "outputs": []
    },
    {
      "cell_type": "code",
      "metadata": {
        "colab": {
          "base_uri": "https://localhost:8080/",
          "height": 294
        },
        "id": "fF4ceB-YLTm7",
        "outputId": "1a214dfc-7a5c-4a74-8a4a-1dce9e6f8ac4"
      },
      "source": [
        "plt.plot(date[26:-25], Fisher, label = 'Statistique de Fisher', color = 'grey')\n",
        "plt.title(\"Evolution de statistique de Fisher\")\n",
        "plt.suptitle('Test de Chow')\n",
        "plt.legend()\n",
        "plt.show()"
      ],
      "execution_count": 57,
      "outputs": [
        {
          "output_type": "display_data",
          "data": {
            "image/png": "[encoded data removed]",
            "text/plain": [
              "<Figure size 432x288 with 1 Axes>"
            ]
          },
          "metadata": {
            "tags": [],
            "needs_background": "light"
          }
        }
      ]
    },
    {
      "cell_type": "code",
      "metadata": {
        "colab": {
          "base_uri": "https://localhost:8080/"
        },
        "id": "w8rgUrE9OkuV",
        "outputId": "588b2edd-7d25-4536-e7e9-2f9a8685ccfb"
      },
      "source": [
        "# Etude des résultats\n",
        "date_rupture = date[np.argmax(Fisher)+26]\n",
        "print(\"La date de rupture est \", date_rupture)\n",
        "print('La statistique de Fisher est de ', np.max(Fisher))\n",
        "print(\"La p-value associée est \", P_value[np.argmax(Fisher)])"
      ],
      "execution_count": 58,
      "outputs": [
        {
          "output_type": "stream",
          "text": [
            "La date de rupture est  1970-10-01 00:00:00\n",
            "La statistique de Fisher est de  27.68181714348758\n",
            "La p-value associée est  2.2202618929086777e-11\n"
          ],
          "name": "stdout"
        }
      ]
    },
    {
      "cell_type": "markdown",
      "metadata": {
        "id": "7pjS-7ErPNTR"
      },
      "source": [
        "La valeur la plus élevée de la statistique de Fisher est associée à une p-value très faible (quasi nulle). Donc on rejette l'hypothèse qu'il n'y a pas de changement de structure. Et on détermine le point de rupture principal en 1970. "
      ]
    },
    {
      "cell_type": "markdown",
      "metadata": {
        "id": "SsluMmCgP4gZ"
      },
      "source": [
        "## Test de Granger de non causalité"
      ]
    },
    {
      "cell_type": "markdown",
      "metadata": {
        "id": "g312jpyyP3fM"
      },
      "source": [
        "On considère les délais d'ordre 1, 2, 3 et 4. On étudiera donc le moèdle suivant:   \n",
        "\n",
        "- $ unemp_t =  \\beta_1 inf_{t-1}+ \\beta_2 inf_{t-2} + \\beta_3 inf_{t-3} +  \\beta_4 inf_{t-4}+ \\\\ \\delta_1 unemp_{t-1}+ \\delta_2 unemp_{t-2} \n",
        "        + \\delta_3 unemp_{t-3} + \\delta_4 inf_{t-4} + coontante\n",
        "$\n",
        "\n",
        "Afin d'effectuer le test de Granger, nous devons tester l'hypothèse suivante: \n",
        "- $H0: \\beta_1 = \\beta_2 = \\beta_3 = \\beta_4 =0 $\n",
        "- $H1$ : correspond donc au cas où un de ces coefficients $\\beta$ est non nul."
      ]
    },
    {
      "cell_type": "code",
      "metadata": {
        "id": "g21PeF1xRZYd"
      },
      "source": [
        "# Lags d'inflation\n",
        "inflation_1 = inflation.shift(1)\n",
        "inflation_2 = inflation.shift(2)\n",
        "inflation_3 = inflation.shift(3)\n",
        "inflation_4 = inflation.shift(4)"
      ],
      "execution_count": 59,
      "outputs": []
    },
    {
      "cell_type": "code",
      "metadata": {
        "id": "r4SxFfDYRZc8"
      },
      "source": [
        "# Lags de chomage\n",
        "unemployment_1 = unemployment.shift(1)\n",
        "unemployment_2 = unemployment.shift(2)\n",
        "unemployment_3 = unemployment.shift(3)\n",
        "unemployment_4 = unemployment.shift(4)"
      ],
      "execution_count": 60,
      "outputs": []
    },
    {
      "cell_type": "code",
      "metadata": {
        "colab": {
          "base_uri": "https://localhost:8080/",
          "height": 435
        },
        "id": "sJzeqYhgRZUK",
        "outputId": "84459485-ff05-4e5d-a765-593016338f09"
      },
      "source": [
        "# Construction de feature matrix \n",
        "X = pd.concat([inflation_1,inflation_2,inflation_3,inflation_4, \n",
        "               unemployment_1, unemployment_2,  unemployment_3, unemployment_4], \n",
        "              axis =1)\n",
        "X.columns =   [\"inflation_1\",\"inflation_2\",\"inflation_3\",\"inflation_4\", \n",
        "               \"unemployment_1\", \"unemployment_2\",  \"unemployment_3\", \"unemployment_4\"]\n",
        "X[\"const\"] = 1\n",
        "X = X.dropna()\n",
        "X"
      ],
      "execution_count": 61,
      "outputs": [
        {
          "output_type": "execute_result",
          "data": {
            "text/html": [
              "<div>\n",
              "<style scoped>\n",
              "    .dataframe tbody tr th:only-of-type {\n",
              "        vertical-align: middle;\n",
              "    }\n",
              "\n",
              "    .dataframe tbody tr th {\n",
              "        vertical-align: top;\n",
              "    }\n",
              "\n",
              "    .dataframe thead th {\n",
              "        text-align: right;\n",
              "    }\n",
              "</style>\n",
              "<table border=\"1\" class=\"dataframe\">\n",
              "  <thead>\n",
              "    <tr style=\"text-align: right;\">\n",
              "      <th></th>\n",
              "      <th>inflation_1</th>\n",
              "      <th>inflation_2</th>\n",
              "      <th>inflation_3</th>\n",
              "      <th>inflation_4</th>\n",
              "      <th>unemployment_1</th>\n",
              "      <th>unemployment_2</th>\n",
              "      <th>unemployment_3</th>\n",
              "      <th>unemployment_4</th>\n",
              "      <th>const</th>\n",
              "    </tr>\n",
              "  </thead>\n",
              "  <tbody>\n",
              "    <tr>\n",
              "      <th>5</th>\n",
              "      <td>0.805910</td>\n",
              "      <td>2.568435</td>\n",
              "      <td>0.270544</td>\n",
              "      <td>2.312925</td>\n",
              "      <td>6.80</td>\n",
              "      <td>6.27</td>\n",
              "      <td>5.53</td>\n",
              "      <td>5.23</td>\n",
              "      <td>1</td>\n",
              "    </tr>\n",
              "    <tr>\n",
              "      <th>6</th>\n",
              "      <td>-0.134048</td>\n",
              "      <td>0.805910</td>\n",
              "      <td>2.568435</td>\n",
              "      <td>0.270544</td>\n",
              "      <td>7.00</td>\n",
              "      <td>6.80</td>\n",
              "      <td>6.27</td>\n",
              "      <td>5.53</td>\n",
              "      <td>1</td>\n",
              "    </tr>\n",
              "    <tr>\n",
              "      <th>7</th>\n",
              "      <td>1.609118</td>\n",
              "      <td>-0.134048</td>\n",
              "      <td>0.805910</td>\n",
              "      <td>2.568435</td>\n",
              "      <td>6.77</td>\n",
              "      <td>7.00</td>\n",
              "      <td>6.80</td>\n",
              "      <td>6.27</td>\n",
              "      <td>1</td>\n",
              "    </tr>\n",
              "    <tr>\n",
              "      <th>8</th>\n",
              "      <td>0.534224</td>\n",
              "      <td>1.609118</td>\n",
              "      <td>-0.134048</td>\n",
              "      <td>0.805910</td>\n",
              "      <td>6.20</td>\n",
              "      <td>6.77</td>\n",
              "      <td>7.00</td>\n",
              "      <td>6.80</td>\n",
              "      <td>1</td>\n",
              "    </tr>\n",
              "    <tr>\n",
              "      <th>9</th>\n",
              "      <td>1.600534</td>\n",
              "      <td>0.534224</td>\n",
              "      <td>1.609118</td>\n",
              "      <td>-0.134048</td>\n",
              "      <td>5.63</td>\n",
              "      <td>6.20</td>\n",
              "      <td>6.77</td>\n",
              "      <td>7.00</td>\n",
              "      <td>1</td>\n",
              "    </tr>\n",
              "    <tr>\n",
              "      <th>...</th>\n",
              "      <td>...</td>\n",
              "      <td>...</td>\n",
              "      <td>...</td>\n",
              "      <td>...</td>\n",
              "      <td>...</td>\n",
              "      <td>...</td>\n",
              "      <td>...</td>\n",
              "      <td>...</td>\n",
              "      <td>...</td>\n",
              "    </tr>\n",
              "    <tr>\n",
              "      <th>207</th>\n",
              "      <td>2.867703</td>\n",
              "      <td>4.575958</td>\n",
              "      <td>4.352577</td>\n",
              "      <td>2.990689</td>\n",
              "      <td>9.00</td>\n",
              "      <td>9.03</td>\n",
              "      <td>9.00</td>\n",
              "      <td>9.53</td>\n",
              "      <td>1</td>\n",
              "    </tr>\n",
              "    <tr>\n",
              "      <th>208</th>\n",
              "      <td>1.397117</td>\n",
              "      <td>2.867703</td>\n",
              "      <td>4.575958</td>\n",
              "      <td>4.352577</td>\n",
              "      <td>8.67</td>\n",
              "      <td>9.00</td>\n",
              "      <td>9.03</td>\n",
              "      <td>9.00</td>\n",
              "      <td>1</td>\n",
              "    </tr>\n",
              "    <tr>\n",
              "      <th>209</th>\n",
              "      <td>2.291052</td>\n",
              "      <td>1.397117</td>\n",
              "      <td>2.867703</td>\n",
              "      <td>4.575958</td>\n",
              "      <td>8.27</td>\n",
              "      <td>8.67</td>\n",
              "      <td>9.00</td>\n",
              "      <td>9.03</td>\n",
              "      <td>1</td>\n",
              "    </tr>\n",
              "    <tr>\n",
              "      <th>210</th>\n",
              "      <td>0.998817</td>\n",
              "      <td>2.291052</td>\n",
              "      <td>1.397117</td>\n",
              "      <td>2.867703</td>\n",
              "      <td>8.17</td>\n",
              "      <td>8.27</td>\n",
              "      <td>8.67</td>\n",
              "      <td>9.00</td>\n",
              "      <td>1</td>\n",
              "    </tr>\n",
              "    <tr>\n",
              "      <th>211</th>\n",
              "      <td>2.080056</td>\n",
              "      <td>0.998817</td>\n",
              "      <td>2.291052</td>\n",
              "      <td>1.397117</td>\n",
              "      <td>8.03</td>\n",
              "      <td>8.17</td>\n",
              "      <td>8.27</td>\n",
              "      <td>8.67</td>\n",
              "      <td>1</td>\n",
              "    </tr>\n",
              "  </tbody>\n",
              "</table>\n",
              "<p>207 rows × 9 columns</p>\n",
              "</div>"
            ],
            "text/plain": [
              "     inflation_1  inflation_2  ...  unemployment_4  const\n",
              "5       0.805910     2.568435  ...            5.23      1\n",
              "6      -0.134048     0.805910  ...            5.53      1\n",
              "7       1.609118    -0.134048  ...            6.27      1\n",
              "8       0.534224     1.609118  ...            6.80      1\n",
              "9       1.600534     0.534224  ...            7.00      1\n",
              "..           ...          ...  ...             ...    ...\n",
              "207     2.867703     4.575958  ...            9.53      1\n",
              "208     1.397117     2.867703  ...            9.00      1\n",
              "209     2.291052     1.397117  ...            9.03      1\n",
              "210     0.998817     2.291052  ...            9.00      1\n",
              "211     2.080056     0.998817  ...            8.67      1\n",
              "\n",
              "[207 rows x 9 columns]"
            ]
          },
          "metadata": {
            "tags": []
          },
          "execution_count": 61
        }
      ]
    },
    {
      "cell_type": "code",
      "metadata": {
        "id": "KSNWqDTVTTqy"
      },
      "source": [
        "y = unemployment[5:]"
      ],
      "execution_count": 62,
      "outputs": []
    },
    {
      "cell_type": "code",
      "metadata": {
        "colab": {
          "base_uri": "https://localhost:8080/"
        },
        "id": "3MC0OrGmTmyC",
        "outputId": "3cd0e103-f8de-419d-c9e0-15c61f2b5253"
      },
      "source": [
        "X.shape"
      ],
      "execution_count": 63,
      "outputs": [
        {
          "output_type": "execute_result",
          "data": {
            "text/plain": [
              "(207, 9)"
            ]
          },
          "metadata": {
            "tags": []
          },
          "execution_count": 63
        }
      ]
    },
    {
      "cell_type": "code",
      "metadata": {
        "colab": {
          "base_uri": "https://localhost:8080/"
        },
        "id": "4rDuRn8nRZPs",
        "outputId": "0b9db49b-a87e-401e-8509-60d909ec6363"
      },
      "source": [
        "# Modèle avec toutes les variables\n",
        "model = sm.OLS(y, X)\n",
        "result = model.fit()\n",
        "SSR_1 = result.ssr\n",
        "SSR_1"
      ],
      "execution_count": 64,
      "outputs": [
        {
          "output_type": "execute_result",
          "data": {
            "text/plain": [
              "11.58738427841523"
            ]
          },
          "metadata": {
            "tags": []
          },
          "execution_count": 64
        }
      ]
    },
    {
      "cell_type": "code",
      "metadata": {
        "colab": {
          "base_uri": "https://localhost:8080/"
        },
        "id": "WFHP6-4EUeIj",
        "outputId": "cb7d9525-795c-4bd8-d28d-4a8f7b8df173"
      },
      "source": [
        "# Modèle sans lags d'inflation\n",
        "X_2 = X.drop([\"inflation_1\",\"inflation_2\",\"inflation_3\",\"inflation_4\"], \n",
        "             axis = 1)\n",
        "model = sm.OLS(y, X_2)\n",
        "result = model.fit()\n",
        "SSR_2 = result.ssr\n",
        "SSR_2"
      ],
      "execution_count": 65,
      "outputs": [
        {
          "output_type": "execute_result",
          "data": {
            "text/plain": [
              "12.47614816930727"
            ]
          },
          "metadata": {
            "tags": []
          },
          "execution_count": 65
        }
      ]
    },
    {
      "cell_type": "code",
      "metadata": {
        "colab": {
          "base_uri": "https://localhost:8080/"
        },
        "id": "_wPL_Pt8Uy9W",
        "outputId": "8c5785aa-f2df-4f70-a3d9-40722d9047ae"
      },
      "source": [
        "# Paramètres\n",
        "n, p =  X.shape\n",
        "print(\"N = \", n,\"P = \",  p)\n",
        "\n",
        "q = X.shape[1] -X_2.shape[1]\n",
        "print(\"Paramètre q:\", q)"
      ],
      "execution_count": 66,
      "outputs": [
        {
          "output_type": "stream",
          "text": [
            "N =  207 P =  9\n",
            "Paramètre q: 4\n"
          ],
          "name": "stdout"
        }
      ]
    },
    {
      "cell_type": "code",
      "metadata": {
        "id": "6ALLMyyTU3jd"
      },
      "source": [
        ""
      ],
      "execution_count": 66,
      "outputs": []
    },
    {
      "cell_type": "code",
      "metadata": {
        "colab": {
          "base_uri": "https://localhost:8080/"
        },
        "id": "VA6DOu9hVBJh",
        "outputId": "32c015ff-a45a-4392-8520-c9d1f8d31e51"
      },
      "source": [
        "# Fisher et P_value\n",
        "F = ((SSR_2 - SSR_1)/q)/(SSR_1/(n-p))\n",
        "p_value = f.sf(F,q,n-p)\n",
        "print('La statistique de Fisher est de ', F)\n",
        "print(\"La p-value associée est \", p_value)"
      ],
      "execution_count": 67,
      "outputs": [
        {
          "output_type": "stream",
          "text": [
            "La statistique de Fisher est de  3.7966991982053155\n",
            "La p-value associée est  0.005351957807937182\n"
          ],
          "name": "stdout"
        }
      ]
    },
    {
      "cell_type": "markdown",
      "metadata": {
        "id": "tnmCAZYsRZHB"
      },
      "source": [
        "Au vu de la statistique de Fisher obtenue, et le fait que la p_value soit inférieure à 0.05 donc on rejette l'hypothèse nulle. Les valeurs de des différents lags étudiés de l'inflation ont un impact sur le chômage. "
      ]
    },
    {
      "cell_type": "markdown",
      "metadata": {
        "id": "LL3Y9BM-RY96"
      },
      "source": [
        "## Représentation graphique des délais distribués"
      ]
    },
    {
      "cell_type": "code",
      "metadata": {
        "colab": {
          "base_uri": "https://localhost:8080/",
          "height": 415
        },
        "id": "QcKG4iviYGPR",
        "outputId": "fbab26de-561b-454c-f9af-28750133f6ba"
      },
      "source": [
        "# Avec les 4 lags étudiés \n",
        "X = pd.concat([inflation,inflation_1,inflation_2,inflation_3,inflation_4], \n",
        "              axis= 1)\n",
        "X.columns = [\"inflation\",\"inflation_1\",\"inflation_2\",\"inflation_3\",\"inflation_4\"] \n",
        "X['constante'] = 1    \n",
        "X = X.dropna()\n",
        "X"
      ],
      "execution_count": 68,
      "outputs": [
        {
          "output_type": "execute_result",
          "data": {
            "text/html": [
              "<div>\n",
              "<style scoped>\n",
              "    .dataframe tbody tr th:only-of-type {\n",
              "        vertical-align: middle;\n",
              "    }\n",
              "\n",
              "    .dataframe tbody tr th {\n",
              "        vertical-align: top;\n",
              "    }\n",
              "\n",
              "    .dataframe thead th {\n",
              "        text-align: right;\n",
              "    }\n",
              "</style>\n",
              "<table border=\"1\" class=\"dataframe\">\n",
              "  <thead>\n",
              "    <tr style=\"text-align: right;\">\n",
              "      <th></th>\n",
              "      <th>inflation</th>\n",
              "      <th>inflation_1</th>\n",
              "      <th>inflation_2</th>\n",
              "      <th>inflation_3</th>\n",
              "      <th>inflation_4</th>\n",
              "      <th>constante</th>\n",
              "    </tr>\n",
              "  </thead>\n",
              "  <tbody>\n",
              "    <tr>\n",
              "      <th>5</th>\n",
              "      <td>-0.134048</td>\n",
              "      <td>0.805910</td>\n",
              "      <td>2.568435</td>\n",
              "      <td>0.270544</td>\n",
              "      <td>2.312925</td>\n",
              "      <td>1</td>\n",
              "    </tr>\n",
              "    <tr>\n",
              "      <th>6</th>\n",
              "      <td>1.609118</td>\n",
              "      <td>-0.134048</td>\n",
              "      <td>0.805910</td>\n",
              "      <td>2.568435</td>\n",
              "      <td>0.270544</td>\n",
              "      <td>1</td>\n",
              "    </tr>\n",
              "    <tr>\n",
              "      <th>7</th>\n",
              "      <td>0.534224</td>\n",
              "      <td>1.609118</td>\n",
              "      <td>-0.134048</td>\n",
              "      <td>0.805910</td>\n",
              "      <td>2.568435</td>\n",
              "      <td>1</td>\n",
              "    </tr>\n",
              "    <tr>\n",
              "      <th>8</th>\n",
              "      <td>1.600534</td>\n",
              "      <td>0.534224</td>\n",
              "      <td>1.609118</td>\n",
              "      <td>-0.134048</td>\n",
              "      <td>0.805910</td>\n",
              "      <td>1</td>\n",
              "    </tr>\n",
              "    <tr>\n",
              "      <th>9</th>\n",
              "      <td>1.461309</td>\n",
              "      <td>1.600534</td>\n",
              "      <td>0.534224</td>\n",
              "      <td>1.609118</td>\n",
              "      <td>-0.134048</td>\n",
              "      <td>1</td>\n",
              "    </tr>\n",
              "    <tr>\n",
              "      <th>...</th>\n",
              "      <td>...</td>\n",
              "      <td>...</td>\n",
              "      <td>...</td>\n",
              "      <td>...</td>\n",
              "      <td>...</td>\n",
              "      <td>...</td>\n",
              "    </tr>\n",
              "    <tr>\n",
              "      <th>207</th>\n",
              "      <td>1.397117</td>\n",
              "      <td>2.867703</td>\n",
              "      <td>4.575958</td>\n",
              "      <td>4.352577</td>\n",
              "      <td>2.990689</td>\n",
              "      <td>1</td>\n",
              "    </tr>\n",
              "    <tr>\n",
              "      <th>208</th>\n",
              "      <td>2.291052</td>\n",
              "      <td>1.397117</td>\n",
              "      <td>2.867703</td>\n",
              "      <td>4.575958</td>\n",
              "      <td>4.352577</td>\n",
              "      <td>1</td>\n",
              "    </tr>\n",
              "    <tr>\n",
              "      <th>209</th>\n",
              "      <td>0.998817</td>\n",
              "      <td>2.291052</td>\n",
              "      <td>1.397117</td>\n",
              "      <td>2.867703</td>\n",
              "      <td>4.575958</td>\n",
              "      <td>1</td>\n",
              "    </tr>\n",
              "    <tr>\n",
              "      <th>210</th>\n",
              "      <td>2.080056</td>\n",
              "      <td>0.998817</td>\n",
              "      <td>2.291052</td>\n",
              "      <td>1.397117</td>\n",
              "      <td>2.867703</td>\n",
              "      <td>1</td>\n",
              "    </tr>\n",
              "    <tr>\n",
              "      <th>211</th>\n",
              "      <td>2.173630</td>\n",
              "      <td>2.080056</td>\n",
              "      <td>0.998817</td>\n",
              "      <td>2.291052</td>\n",
              "      <td>1.397117</td>\n",
              "      <td>1</td>\n",
              "    </tr>\n",
              "  </tbody>\n",
              "</table>\n",
              "<p>207 rows × 6 columns</p>\n",
              "</div>"
            ],
            "text/plain": [
              "     inflation  inflation_1  inflation_2  inflation_3  inflation_4  constante\n",
              "5    -0.134048     0.805910     2.568435     0.270544     2.312925          1\n",
              "6     1.609118    -0.134048     0.805910     2.568435     0.270544          1\n",
              "7     0.534224     1.609118    -0.134048     0.805910     2.568435          1\n",
              "8     1.600534     0.534224     1.609118    -0.134048     0.805910          1\n",
              "9     1.461309     1.600534     0.534224     1.609118    -0.134048          1\n",
              "..         ...          ...          ...          ...          ...        ...\n",
              "207   1.397117     2.867703     4.575958     4.352577     2.990689          1\n",
              "208   2.291052     1.397117     2.867703     4.575958     4.352577          1\n",
              "209   0.998817     2.291052     1.397117     2.867703     4.575958          1\n",
              "210   2.080056     0.998817     2.291052     1.397117     2.867703          1\n",
              "211   2.173630     2.080056     0.998817     2.291052     1.397117          1\n",
              "\n",
              "[207 rows x 6 columns]"
            ]
          },
          "metadata": {
            "tags": []
          },
          "execution_count": 68
        }
      ]
    },
    {
      "cell_type": "code",
      "metadata": {
        "colab": {
          "base_uri": "https://localhost:8080/"
        },
        "id": "24XfxYaaYpnu",
        "outputId": "28b5f4ce-3a12-40e2-d992-19e0714b88a9"
      },
      "source": [
        "# Résultats du modèle \n",
        "model = sm.OLS(y, X)\n",
        "result = model.fit()\n",
        "print(result.summary())"
      ],
      "execution_count": 69,
      "outputs": [
        {
          "output_type": "stream",
          "text": [
            "                            OLS Regression Results                            \n",
            "==============================================================================\n",
            "Dep. Variable:                  Unemp   R-squared:                       0.104\n",
            "Model:                            OLS   Adj. R-squared:                  0.081\n",
            "Method:                 Least Squares   F-statistic:                     4.650\n",
            "Date:                Sun, 16 May 2021   Prob (F-statistic):           0.000487\n",
            "Time:                        23:10:23   Log-Likelihood:                -383.05\n",
            "No. Observations:                 207   AIC:                             778.1\n",
            "Df Residuals:                     201   BIC:                             798.1\n",
            "Df Model:                           5                                         \n",
            "Covariance Type:            nonrobust                                         \n",
            "===============================================================================\n",
            "                  coef    std err          t      P>|t|      [0.025      0.975]\n",
            "-------------------------------------------------------------------------------\n",
            "inflation      -0.0984      0.058     -1.703      0.090      -0.212       0.016\n",
            "inflation_1    -0.0603      0.067     -0.896      0.371      -0.193       0.072\n",
            "inflation_2     0.0061      0.064      0.094      0.925      -0.121       0.133\n",
            "inflation_3     0.0552      0.067      0.825      0.411      -0.077       0.187\n",
            "inflation_4     0.1849      0.057      3.218      0.002       0.072       0.298\n",
            "constante       5.7414      0.195     29.504      0.000       5.358       6.125\n",
            "==============================================================================\n",
            "Omnibus:                       35.345   Durbin-Watson:                   0.106\n",
            "Prob(Omnibus):                  0.000   Jarque-Bera (JB):               51.968\n",
            "Skew:                           0.984   Prob(JB):                     5.19e-12\n",
            "Kurtosis:                       4.466   Cond. No.                         19.4\n",
            "==============================================================================\n",
            "\n",
            "Notes:\n",
            "[1] Standard Errors assume that the covariance matrix of the errors is correctly specified.\n"
          ],
          "name": "stdout"
        }
      ]
    },
    {
      "cell_type": "code",
      "metadata": {
        "colab": {
          "base_uri": "https://localhost:8080/",
          "height": 266
        },
        "id": "1fmRGa5cZJqH",
        "outputId": "ef2126ca-299a-42de-8729-2bf5a7bd84a2"
      },
      "source": [
        "# Visualisation des coefficients\n",
        "plt.plot(result.params[:-1], color = 'grey');\n",
        "plt.ylabel(\"Coefficient\")\n",
        "plt.show()"
      ],
      "execution_count": 70,
      "outputs": [
        {
          "output_type": "display_data",
          "data": {
            "image/png": "[encoded data removed]",
            "text/plain": [
              "<Figure size 432x288 with 1 Axes>"
            ]
          },
          "metadata": {
            "tags": [],
            "needs_background": "light"
          }
        }
      ]
    },
    {
      "cell_type": "markdown",
      "metadata": {
        "id": "dCUE50RubCnG"
      },
      "source": [
        "On peut remarquer que les valeurs sont croissante au fur et à mesure de l'ajout de lags."
      ]
    },
    {
      "cell_type": "markdown",
      "metadata": {
        "id": "t5xaEdQQZkh2"
      },
      "source": [
        "## Impact à long de terme de l’inflation sur le chômage"
      ]
    },
    {
      "cell_type": "code",
      "metadata": {
        "id": "A_g0RUvlZruB"
      },
      "source": [
        "# Calculs de lags additionnels\n",
        "inflation_5 = inflation.shift(5)\n",
        "inflation_6 = inflation.shift(6)\n",
        "inflation_7 = inflation.shift(7)\n",
        "inflation_8 = inflation.shift(8)\n",
        "inflation_9 = inflation.shift(9)\n",
        "inflation_10 = inflation.shift(10)\n",
        "inflation_11 = inflation.shift(11)\n",
        "inflation_12 = inflation.shift(12)"
      ],
      "execution_count": 71,
      "outputs": []
    },
    {
      "cell_type": "code",
      "metadata": {
        "id": "PgeVNZM8ZyV2"
      },
      "source": [
        "# Construction de feature matrix\n",
        "X = pd.concat([inflation,inflation_1,inflation_2,inflation_3,inflation_4, \n",
        "               inflation_5,inflation_6,inflation_7,inflation_8,inflation_9,\n",
        "               inflation_10,inflation_11,inflation_12], \n",
        "              axis= 1)\n",
        "X.columns = [\"inflation\",\"inflation_1\",\"inflation_2\",\"inflation_3\",\"inflation_4\", \n",
        "             \"inflation_5\",\"inflation_6\",\"inflation_7\",\"inflation_8\",\"inflation_9\",\n",
        "               \"inflation_10\",\"inflation_11\",\"inflation_12\"] \n",
        "X['constante'] = 1    \n",
        "X = X.dropna()\n",
        "#"
      ],
      "execution_count": 72,
      "outputs": []
    },
    {
      "cell_type": "code",
      "metadata": {
        "id": "psl-jDz-aa1B"
      },
      "source": [
        "y = unemployment[X.index[0]:]"
      ],
      "execution_count": 73,
      "outputs": []
    },
    {
      "cell_type": "code",
      "metadata": {
        "colab": {
          "base_uri": "https://localhost:8080/"
        },
        "id": "V4OsoVeCZyH6",
        "outputId": "d1e5ec12-89e6-438e-c3dc-48cbf854ec9b"
      },
      "source": [
        "# Modèle\n",
        "model = sm.OLS(y, X)\n",
        "result = model.fit()\n",
        "print(result.summary())"
      ],
      "execution_count": 74,
      "outputs": [
        {
          "output_type": "stream",
          "text": [
            "                            OLS Regression Results                            \n",
            "==============================================================================\n",
            "Dep. Variable:                  Unemp   R-squared:                       0.363\n",
            "Model:                            OLS   Adj. R-squared:                  0.318\n",
            "Method:                 Least Squares   F-statistic:                     8.110\n",
            "Date:                Sun, 16 May 2021   Prob (F-statistic):           8.79e-13\n",
            "Time:                        23:10:23   Log-Likelihood:                -337.72\n",
            "No. Observations:                 199   AIC:                             703.4\n",
            "Df Residuals:                     185   BIC:                             749.5\n",
            "Df Model:                          13                                         \n",
            "Covariance Type:            nonrobust                                         \n",
            "================================================================================\n",
            "                   coef    std err          t      P>|t|      [0.025      0.975]\n",
            "--------------------------------------------------------------------------------\n",
            "inflation       -0.1171      0.052     -2.256      0.025      -0.220      -0.015\n",
            "inflation_1     -0.0444      0.060     -0.735      0.464      -0.164       0.075\n",
            "inflation_2     -0.0589      0.060     -0.974      0.331      -0.178       0.060\n",
            "inflation_3      0.0225      0.063      0.356      0.722      -0.102       0.147\n",
            "inflation_4      0.0170      0.063      0.270      0.788      -0.107       0.141\n",
            "inflation_5      0.0477      0.063      0.754      0.452      -0.077       0.172\n",
            "inflation_6      0.0409      0.063      0.648      0.518      -0.084       0.166\n",
            "inflation_7      0.0543      0.063      0.858      0.392      -0.070       0.179\n",
            "inflation_8      0.0565      0.063      0.897      0.371      -0.068       0.181\n",
            "inflation_9      0.0194      0.063      0.307      0.759      -0.105       0.144\n",
            "inflation_10     0.0543      0.060      0.900      0.370      -0.065       0.173\n",
            "inflation_11     0.0424      0.060      0.704      0.482      -0.077       0.161\n",
            "inflation_12     0.1236      0.052      2.367      0.019       0.021       0.227\n",
            "constante        5.0541      0.195     25.905      0.000       4.669       5.439\n",
            "==============================================================================\n",
            "Omnibus:                       54.618   Durbin-Watson:                   0.092\n",
            "Prob(Omnibus):                  0.000   Jarque-Bera (JB):              103.504\n",
            "Skew:                           1.353   Prob(JB):                     3.34e-23\n",
            "Kurtosis:                       5.272   Cond. No.                         34.4\n",
            "==============================================================================\n",
            "\n",
            "Notes:\n",
            "[1] Standard Errors assume that the covariance matrix of the errors is correctly specified.\n"
          ],
          "name": "stdout"
        }
      ]
    },
    {
      "cell_type": "code",
      "metadata": {
        "colab": {
          "base_uri": "https://localhost:8080/",
          "height": 305
        },
        "id": "EZCDSkZ4aiou",
        "outputId": "fd13791f-6f42-4e06-8b2f-5842ba26b9a2"
      },
      "source": [
        "# Visualisation des coefficients\n",
        "plt.plot(result.params[:-1], color = 'grey');\n",
        "plt.xticks(rotation =45)\n",
        "plt.ylabel(\"Coefficient\")\n",
        "plt.show()"
      ],
      "execution_count": 75,
      "outputs": [
        {
          "output_type": "display_data",
          "data": {
            "image/png": "[encoded data removed]",
            "text/plain": [
              "<Figure size 432x288 with 1 Axes>"
            ]
          },
          "metadata": {
            "tags": [],
            "needs_background": "light"
          }
        }
      ]
    }
  ]
}